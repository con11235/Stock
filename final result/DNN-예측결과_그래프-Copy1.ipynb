{
 "cells": [
  {
   "cell_type": "code",
   "execution_count": 48,
   "metadata": {},
   "outputs": [],
   "source": [
    "# 사용할 데이터의 형태\n",
    "data_type = '19'      # '1' : summarize X,개별 기사   '2' : summarize X,날짜별 기사\n",
    "                    # '3' : summarize O,개별 기사   '4' : summarize O,날짜별 기사\n",
    "normalized = 'done' # 'done' : 데이터 행별 normalize한 데이터     'not' : 데이터 행별 normalize 안한 데이터\n",
    "erased_word = ''    # 제거된 단어 형태\n",
    "num_word = '6000'   # 사용할 단어 수\n",
    "\n",
    "# 돌려볼 모델의 구조\n",
    "first_layer = 3000   # 모델의 첫 번째 레이어 수\n",
    "second_layer = 1000  # 모델의 두 번째 레이어 수\n",
    "ep = 60             # 모델의 에포크 수\n",
    "ba = 1000            # 모델의 배치 사이즈"
   ]
  },
  {
   "cell_type": "code",
   "execution_count": 49,
   "metadata": {},
   "outputs": [],
   "source": [
    "import pickle\n",
    "import os\n",
    "path = os.getcwd()+'/pickles/'\n",
    "if erased_word != '':\n",
    "    erased_word = '_'+erased_word\n",
    "with open(path+data_type+'test_x_'+str(num_word)+'_'+normalized+erased_word+'.pickle', 'rb') as f:\n",
    "    test_x = pickle.load(f)\n",
    "with open(path+data_type+'test_y_'+str(num_word)+'_'+normalized+erased_word+'.pickle', 'rb') as f:\n",
    "    test_y = pickle.load(f)\n",
    "with open(path+data_type+'test2_x_'+str(num_word)+'_'+normalized+erased_word+'.pickle', 'rb') as f:\n",
    "    test2_x = pickle.load(f)\n",
    "with open(path+data_type+'test2_y_'+str(num_word)+'_'+normalized+erased_word+'.pickle', 'rb') as f:\n",
    "    test2_y = pickle.load(f)\n",
    "#with open(path+data_type+'sel_words'+str(num_word)+'_'+normalized+erased_word+'.pickle', 'rb') as f:\n",
    "#    selected_words = pickle.load(f)"
   ]
  },
  {
   "cell_type": "code",
   "execution_count": 50,
   "metadata": {},
   "outputs": [],
   "source": [
    "from tensorflow.keras.models import load_model\n",
    "model = load_model('BestModel19-1')"
   ]
  },
  {
   "cell_type": "code",
   "execution_count": 51,
   "metadata": {},
   "outputs": [],
   "source": [
    "# 모델의 예측값을 튜플로 반환하는 함수\n",
    "import numpy as np\n",
    "def predict(x):\n",
    "    data = np.expand_dims(np.asarray(x).astype('float32'),axis=0)\n",
    "    result = model.predict(data)\n",
    "    return tuple(result[0])"
   ]
  },
  {
   "cell_type": "code",
   "execution_count": 52,
   "metadata": {},
   "outputs": [],
   "source": [
    "# 모든 날짜의 예측값들을 합치기 위한 튜플의 합 함수\n",
    "def sum_tuple(a,b):\n",
    "    return (a[0]+b[0],a[1]+b[1],a[2]+b[2])\n",
    "def div_tuple(a,b):\n",
    "    return (a[0]/b,a[1]/b,a[2]/b)"
   ]
  },
  {
   "cell_type": "code",
   "execution_count": 53,
   "metadata": {},
   "outputs": [],
   "source": [
    "#주가 데이터의 라벨링 과정\n",
    "import csv\n",
    "f = open('stock.csv','r', encoding='utf-8-sig')\n",
    "rdf = csv.reader(f)\n",
    "label ={}\n",
    "for line in rdf:\n",
    "    date = line[0][:4]+line[0][5:7]+line[0][8:10]\n",
    "    number = float(line[6])\n",
    "    label[date] = number\n",
    "f.close()"
   ]
  },
  {
   "cell_type": "code",
   "execution_count": 54,
   "metadata": {},
   "outputs": [],
   "source": [
    "predicted = {}\n",
    "num_pred = {}\n",
    "real = []\n",
    "date = set()\n",
    "pred = []\n",
    "for data in test2_x:\n",
    "    if data[1] in predicted:\n",
    "        predicted[data[1]] = sum_tuple(predicted[data[1]],predict(data[0]))\n",
    "        num_pred[data[1]] = num_pred[data[1]]+1\n",
    "    else:\n",
    "        predicted[data[1]] = predict(data[0])\n",
    "        num_pred[data[1]] = 1\n",
    "    date.add(data[1])\n",
    "date = [d for d in date]\n",
    "date.sort()\n",
    "for d in date:\n",
    "    pred.append(div_tuple(predicted[d],num_pred[d]))\n",
    "    real.append(label[d])\n",
    "    \n"
   ]
  },
  {
   "cell_type": "code",
   "execution_count": 55,
   "metadata": {},
   "outputs": [],
   "source": [
    "up = [a for _,_,a in pred]\n",
    "mid = [a for _,a,_ in pred]\n",
    "down = [a for a,_,_ in pred]\n",
    "mid_bottom = np.add(up,mid)\n",
    "a = max(max(real),abs(min(real)))"
   ]
  },
  {
   "cell_type": "code",
   "execution_count": 56,
   "metadata": {},
   "outputs": [
    {
     "data": {
      "image/png": "[encoded data removed]",
      "text/plain": [
       "<Figure size 432x288 with 2 Axes>"
      ]
     },
     "metadata": {
      "needs_background": "light"
     },
     "output_type": "display_data"
    }
   ],
   "source": [
    "%matplotlib inline\n",
    "import matplotlib.pyplot as plt\n",
    "\n",
    "fig, ax1 = plt.subplots()\n",
    "ax2 = ax1.twinx()\n",
    "\n",
    "ax1.bar(date[:5],up[:5],color='royalblue',zorder=1)\n",
    "ax1.bar(date[:5],mid[:5],color='yellowgreen',bottom=up[:5],zorder=2)\n",
    "ax1.bar(date[:5],down[:5],color='tomato',bottom=mid_bottom[:5],zorder=3)\n",
    "ax1.set_ylim([0,1])\n",
    "ax2.scatter(date[:5],real[:5],color='black',zorder=6)\n",
    "ax2.axhline(y=0.0077,color='gray',linewidth=1,zorder=4)\n",
    "ax2.axhline(y=-0.005,color='dimgray',linewidth=1,zorder=5)\n",
    "ax2.set_ylim([-a,a])\n",
    "fig.legend(['Up','Mid','Down','','','real'])\n",
    "plt.show()"
   ]
  },
  {
   "cell_type": "code",
   "execution_count": 57,
   "metadata": {},
   "outputs": [
    {
     "data": {
      "image/png": "[encoded data removed]",
      "text/plain": [
       "<Figure size 432x288 with 2 Axes>"
      ]
     },
     "metadata": {
      "needs_background": "light"
     },
     "output_type": "display_data"
    }
   ],
   "source": [
    "fig, ax1 = plt.subplots()\n",
    "ax2 = ax1.twinx()\n",
    "\n",
    "ax1.bar(date[5:10],up[5:10],color='royalblue',zorder=1)\n",
    "ax1.bar(date[5:10],mid[5:10],color='yellowgreen',bottom=up[5:10],zorder=2)\n",
    "ax1.bar(date[5:10],down[5:10],color='tomato',bottom=mid_bottom[5:10],zorder=3)\n",
    "ax1.set_ylim([0,1])\n",
    "ax2.scatter(date[5:10],real[5:10],color='black',zorder=6)\n",
    "ax2.axhline(y=0.0077,color='gray',linewidth=1,zorder=4)\n",
    "ax2.axhline(y=-0.005,color='dimgray',linewidth=1,zorder=5)\n",
    "ax2.set_ylim([-a,a])\n",
    "fig.legend(['Up','Mid','Down','','','real'])\n",
    "plt.show()"
   ]
  },
  {
   "cell_type": "code",
   "execution_count": 58,
   "metadata": {},
   "outputs": [
    {
     "data": {
      "image/png": "[encoded data removed]",
      "text/plain": [
       "<Figure size 432x288 with 2 Axes>"
      ]
     },
     "metadata": {
      "needs_background": "light"
     },
     "output_type": "display_data"
    }
   ],
   "source": [
    "fig, ax1 = plt.subplots()\n",
    "ax2 = ax1.twinx()\n",
    "\n",
    "ax1.bar(date[10:15],up[10:15],color='royalblue',zorder=1)\n",
    "ax1.bar(date[10:15],mid[10:15],color='yellowgreen',bottom=up[10:15],zorder=2)\n",
    "ax1.bar(date[10:15],down[10:15],color='tomato',bottom=mid_bottom[10:15],zorder=3)\n",
    "ax1.set_ylim([0,1])\n",
    "ax2.scatter(date[10:15],real[10:15],color='black',zorder=6)\n",
    "ax2.axhline(y=0.0077,color='gray',linewidth=1,zorder=4)\n",
    "ax2.axhline(y=-0.005,color='dimgray',linewidth=1,zorder=5)\n",
    "ax2.set_ylim([-a,a])\n",
    "fig.legend(['Up','Mid','Down','','','real'])\n",
    "plt.show()"
   ]
  },
  {
   "cell_type": "code",
   "execution_count": 59,
   "metadata": {},
   "outputs": [
    {
     "data": {
      "image/png": "[encoded data removed]",
      "text/plain": [
       "<Figure size 432x288 with 2 Axes>"
      ]
     },
     "metadata": {
      "needs_background": "light"
     },
     "output_type": "display_data"
    }
   ],
   "source": [
    "fig, ax1 = plt.subplots()\n",
    "ax2 = ax1.twinx()\n",
    "\n",
    "ax1.bar(date[15:20],up[15:20],color='royalblue',zorder=1)\n",
    "ax1.bar(date[15:20],mid[15:20],color='yellowgreen',bottom=up[15:20],zorder=2)\n",
    "ax1.bar(date[15:20],down[15:20],color='tomato',bottom=mid_bottom[15:20],zorder=3)\n",
    "ax1.set_ylim([0,1])\n",
    "ax2.scatter(date[15:20],real[15:20],color='black',zorder=6)\n",
    "ax2.axhline(y=0.0077,color='gray',linewidth=1,zorder=4)\n",
    "ax2.axhline(y=-0.005,color='dimgray',linewidth=1,zorder=5)\n",
    "ax2.set_ylim([-a,a])\n",
    "fig.legend(['Up','Mid','Down','','','real'])\n",
    "plt.show()"
   ]
  },
  {
   "cell_type": "code",
   "execution_count": 60,
   "metadata": {},
   "outputs": [
    {
     "name": "stdout",
     "output_type": "stream",
     "text": [
      "20200624 1 1\n",
      "20200623 -1 1\n",
      "20200622 -1 1\n",
      "20200625 -1 -1\n",
      "20200601 1 1\n",
      "20200602 0 0\n",
      "20200603 1 1\n",
      "20200604 0 0\n",
      "20200605 1 1\n",
      "20200608 -1 -1\n",
      "20200609 1 1\n",
      "20200610 0 0\n",
      "20200611 -1 -1\n",
      "20200612 -1 -1\n",
      "20200615 -1 -1\n",
      "20200616 1 1\n",
      "20200617 0 0\n",
      "20200619 1 1\n",
      "20200618 0 -1\n"
     ]
    }
   ],
   "source": [
    "import re\n",
    "\n",
    "count = 0\n",
    "sum_dic = {}\n",
    "for data in test2_x:\n",
    "    result = predict(data[0])\n",
    "    if data[1] in sum_dic:\n",
    "        sum_dic[data[1]] = sum_tuple(sum_dic[data[1]],result)\n",
    "    else:\n",
    "        sum_dic[data[1]] = result\n",
    "for date in sum_dic:\n",
    "    real = test2_y[date]\n",
    "    value = sum_dic[date].index(max(sum_dic[date]))\n",
    "    value -= 1\n",
    "    print(date,real,value)\n",
    "    if real == value:\n",
    "        count = count + 1\n",
    "test_score = count / len(sum_dic)"
   ]
  },
  {
   "cell_type": "code",
   "execution_count": 61,
   "metadata": {},
   "outputs": [
    {
     "name": "stdout",
     "output_type": "stream",
     "text": [
      "0.8421052631578947\n"
     ]
    }
   ],
   "source": [
    "print(test_score)"
   ]
  },
  {
   "cell_type": "code",
   "execution_count": null,
   "metadata": {},
   "outputs": [],
   "source": []
  }
 ],
 "metadata": {
  "kernelspec": {
   "display_name": "Python 3",
   "language": "python",
   "name": "python3"
  },
  "language_info": {
   "codemirror_mode": {
    "name": "ipython",
    "version": 3
   },
   "file_extension": ".py",
   "mimetype": "text/x-python",
   "name": "python",
   "nbconvert_exporter": "python",
   "pygments_lexer": "ipython3",
   "version": "3.8.2"
  }
 },
 "nbformat": 4,
 "nbformat_minor": 4
}
