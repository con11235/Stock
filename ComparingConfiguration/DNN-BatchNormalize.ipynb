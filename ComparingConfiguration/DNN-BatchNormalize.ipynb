{
 "cells": [
  {
   "cell_type": "code",
   "execution_count": 18,
   "metadata": {},
   "outputs": [],
   "source": [
    "# 사용할 데이터의 형태\n",
    "data_type = '8'      # '1' : summarize X,개별 기사   '2' : summarize X,날짜별 기사\n",
    "                    # '3' : summarize O,개별 기사   '4' : summarize O,날짜별 기사\n",
    "normalized = 'done' # 'done' : 데이터 행별 normalize한 데이터     'not' : 데이터 행별 normalize 안한 데이터\n",
    "erased_word = ''    # 제거된 단어 형태\n",
    "num_word = '6000'   # 사용할 단어 수\n",
    "\n",
    "# 돌려볼 모델의 구조\n",
    "first_layer = 3000   # 모델의 첫 번째 레이어 수\n",
    "second_layer = 1000  # 모델의 두 번째 레이어 수\n",
    "ep = 60             # 모델의 에포크 수\n",
    "ba = 1000            # 모델의 배치 사이즈"
   ]
  },
  {
   "cell_type": "code",
   "execution_count": 19,
   "metadata": {},
   "outputs": [],
   "source": [
    "# 생성된 training, test의 x,y값을 pickle의 형태로 저장\n",
    "import pickle\n",
    "import os\n",
    "path = os.getcwd()+'/pickles/'\n",
    "if erased_word != '':\n",
    "    erased_word = '_'+erased_word\n",
    "with open(path+data_type+'train_x_'+str(num_word)+'_'+normalized+erased_word+'.pickle', 'rb') as f:\n",
    "    train_x = pickle.load(f)\n",
    "with open(path+data_type+'train_y_'+str(num_word)+'_'+normalized+erased_word+'.pickle', 'rb') as f:\n",
    "    train_y = pickle.load(f)\n",
    "with open(path+data_type+'train2_x_'+str(num_word)+'_'+normalized+erased_word+'.pickle', 'rb') as f:\n",
    "    train2_x = pickle.load(f)\n",
    "with open(path+data_type+'train2_y_'+str(num_word)+'_'+normalized+erased_word+'.pickle', 'rb') as f:\n",
    "    train2_y = pickle.load(f)\n",
    "with open(path+data_type+'test_x_'+str(num_word)+'_'+normalized+erased_word+'.pickle', 'rb') as f:\n",
    "    test_x = pickle.load(f)\n",
    "with open(path+data_type+'test_y_'+str(num_word)+'_'+normalized+erased_word+'.pickle', 'rb') as f:\n",
    "    test_y = pickle.load(f)\n",
    "with open(path+data_type+'test2_x_'+str(num_word)+'_'+normalized+erased_word+'.pickle', 'rb') as f:\n",
    "    test2_x = pickle.load(f)\n",
    "with open(path+data_type+'test2_y_'+str(num_word)+'_'+normalized+erased_word+'.pickle', 'rb') as f:\n",
    "    test2_y = pickle.load(f)"
   ]
  },
  {
   "cell_type": "code",
   "execution_count": 20,
   "metadata": {},
   "outputs": [],
   "source": [
    "# numpy 사용하여 float로 바꾸어주는 과정\n",
    "import numpy as np\n",
    "x_train = np.asarray(train_x).astype('float32')\n",
    "y_train = np.asarray(train_y).astype('float32')\n",
    "x_test = np.asarray(test_x).astype('float32')\n",
    "y_test = np.asarray(test_y).astype('float32')"
   ]
  },
  {
   "cell_type": "code",
   "execution_count": 8,
   "metadata": {},
   "outputs": [
    {
     "name": "stdout",
     "output_type": "stream",
     "text": [
      "[]\n"
     ]
    }
   ],
   "source": []
  },
  {
   "cell_type": "code",
   "execution_count": 21,
   "metadata": {},
   "outputs": [
    {
     "name": "stdout",
     "output_type": "stream",
     "text": [
      "Epoch 1/60\n",
      "10/10 [==============================] - 8s 800ms/step - loss: 2.6086 - categorical_accuracy: 0.3665 - val_loss: 1.0912 - val_categorical_accuracy: 0.3814\n",
      "Epoch 2/60\n",
      "10/10 [==============================] - 8s 762ms/step - loss: 1.0035 - categorical_accuracy: 0.5615 - val_loss: 1.0902 - val_categorical_accuracy: 0.3814\n",
      "Epoch 3/60\n",
      "10/10 [==============================] - 9s 919ms/step - loss: 0.8159 - categorical_accuracy: 0.6807 - val_loss: 1.0908 - val_categorical_accuracy: 0.3814\n",
      "Epoch 4/60\n",
      "10/10 [==============================] - 7s 745ms/step - loss: 0.6729 - categorical_accuracy: 0.7664 - val_loss: 1.0918 - val_categorical_accuracy: 0.3814\n",
      "Epoch 5/60\n",
      "10/10 [==============================] - 8s 764ms/step - loss: 0.5624 - categorical_accuracy: 0.8119 - val_loss: 1.0930 - val_categorical_accuracy: 0.3814\n",
      "Epoch 6/60\n",
      "10/10 [==============================] - 8s 750ms/step - loss: 0.4655 - categorical_accuracy: 0.8595 - val_loss: 1.0967 - val_categorical_accuracy: 0.3814\n",
      "Epoch 7/60\n",
      "10/10 [==============================] - 7s 748ms/step - loss: 0.3825 - categorical_accuracy: 0.8917 - val_loss: 1.0954 - val_categorical_accuracy: 0.3814\n",
      "Epoch 8/60\n",
      "10/10 [==============================] - 7s 748ms/step - loss: 0.2926 - categorical_accuracy: 0.9179 - val_loss: 1.0984 - val_categorical_accuracy: 0.3814\n",
      "Epoch 9/60\n",
      "10/10 [==============================] - 8s 788ms/step - loss: 0.2596 - categorical_accuracy: 0.9255 - val_loss: 1.1010 - val_categorical_accuracy: 0.3814\n",
      "Epoch 10/60\n",
      "10/10 [==============================] - 8s 769ms/step - loss: 0.2819 - categorical_accuracy: 0.9217 - val_loss: 1.1037 - val_categorical_accuracy: 0.3814\n",
      "Epoch 11/60\n",
      "10/10 [==============================] - 8s 782ms/step - loss: 0.2065 - categorical_accuracy: 0.9405 - val_loss: 1.1044 - val_categorical_accuracy: 0.3814\n",
      "Epoch 12/60\n",
      "10/10 [==============================] - 8s 760ms/step - loss: 0.1856 - categorical_accuracy: 0.9474 - val_loss: 1.1033 - val_categorical_accuracy: 0.3814\n",
      "Epoch 13/60\n",
      "10/10 [==============================] - 7s 747ms/step - loss: 0.1926 - categorical_accuracy: 0.9450 - val_loss: 1.1162 - val_categorical_accuracy: 0.3814\n",
      "Epoch 14/60\n",
      "10/10 [==============================] - 7s 739ms/step - loss: 0.1902 - categorical_accuracy: 0.9477 - val_loss: 1.1284 - val_categorical_accuracy: 0.3814\n",
      "Epoch 15/60\n",
      "10/10 [==============================] - 8s 763ms/step - loss: 0.1594 - categorical_accuracy: 0.9549 - val_loss: 1.1053 - val_categorical_accuracy: 0.3814\n",
      "Epoch 16/60\n",
      "10/10 [==============================] - 8s 788ms/step - loss: 0.1355 - categorical_accuracy: 0.9633 - val_loss: 1.1408 - val_categorical_accuracy: 0.3814\n",
      "Epoch 17/60\n",
      "10/10 [==============================] - 8s 767ms/step - loss: 0.1560 - categorical_accuracy: 0.9598 - val_loss: 1.1186 - val_categorical_accuracy: 0.3814\n",
      "Epoch 18/60\n",
      "10/10 [==============================] - 8s 752ms/step - loss: 0.1494 - categorical_accuracy: 0.9525 - val_loss: 1.1705 - val_categorical_accuracy: 0.3814\n",
      "Epoch 19/60\n",
      "10/10 [==============================] - 8s 781ms/step - loss: 0.1110 - categorical_accuracy: 0.9725 - val_loss: 1.1994 - val_categorical_accuracy: 0.3814\n",
      "Epoch 20/60\n",
      "10/10 [==============================] - 8s 761ms/step - loss: 0.1174 - categorical_accuracy: 0.9692 - val_loss: 1.1662 - val_categorical_accuracy: 0.3816\n",
      "Epoch 21/60\n",
      "10/10 [==============================] - 8s 769ms/step - loss: 0.1877 - categorical_accuracy: 0.9520 - val_loss: 1.1469 - val_categorical_accuracy: 0.3814\n",
      "Epoch 22/60\n",
      "10/10 [==============================] - 8s 761ms/step - loss: 0.1026 - categorical_accuracy: 0.9783 - val_loss: 1.1618 - val_categorical_accuracy: 0.3814\n",
      "Epoch 23/60\n",
      "10/10 [==============================] - 8s 773ms/step - loss: 0.1008 - categorical_accuracy: 0.9764 - val_loss: 1.1572 - val_categorical_accuracy: 0.3814\n",
      "Epoch 24/60\n",
      "10/10 [==============================] - 8s 763ms/step - loss: 0.1141 - categorical_accuracy: 0.9747 - val_loss: 1.1441 - val_categorical_accuracy: 0.3814\n",
      "Epoch 25/60\n",
      "10/10 [==============================] - 8s 798ms/step - loss: 0.0978 - categorical_accuracy: 0.9765 - val_loss: 1.1050 - val_categorical_accuracy: 0.3819\n",
      "Epoch 26/60\n",
      "10/10 [==============================] - 8s 790ms/step - loss: 0.0963 - categorical_accuracy: 0.9776 - val_loss: 1.1853 - val_categorical_accuracy: 0.3814\n",
      "Epoch 27/60\n",
      "10/10 [==============================] - 8s 766ms/step - loss: 0.1607 - categorical_accuracy: 0.9638 - val_loss: 1.1905 - val_categorical_accuracy: 0.3814\n",
      "Epoch 28/60\n",
      "10/10 [==============================] - 8s 780ms/step - loss: 0.0759 - categorical_accuracy: 0.9841 - val_loss: 1.2051 - val_categorical_accuracy: 0.3814\n",
      "Epoch 29/60\n",
      "10/10 [==============================] - 8s 783ms/step - loss: 0.0781 - categorical_accuracy: 0.9828 - val_loss: 1.1870 - val_categorical_accuracy: 0.3818\n",
      "Epoch 30/60\n",
      "10/10 [==============================] - 8s 779ms/step - loss: 0.1284 - categorical_accuracy: 0.9666 - val_loss: 1.1966 - val_categorical_accuracy: 0.3816\n",
      "Epoch 31/60\n",
      "10/10 [==============================] - 8s 803ms/step - loss: 0.0934 - categorical_accuracy: 0.9785 - val_loss: 1.1849 - val_categorical_accuracy: 0.3814\n",
      "Epoch 32/60\n",
      "10/10 [==============================] - 8s 770ms/step - loss: 0.0796 - categorical_accuracy: 0.9821 - val_loss: 1.1801 - val_categorical_accuracy: 0.3814\n",
      "Epoch 33/60\n",
      "10/10 [==============================] - 8s 776ms/step - loss: 0.0918 - categorical_accuracy: 0.9767 - val_loss: 1.1425 - val_categorical_accuracy: 0.3833\n",
      "Epoch 34/60\n",
      "10/10 [==============================] - 8s 766ms/step - loss: 0.1145 - categorical_accuracy: 0.9782 - val_loss: 1.2075 - val_categorical_accuracy: 0.3818\n",
      "Epoch 35/60\n",
      "10/10 [==============================] - 8s 784ms/step - loss: 0.0717 - categorical_accuracy: 0.9852 - val_loss: 1.2228 - val_categorical_accuracy: 0.3818\n",
      "Epoch 36/60\n",
      "10/10 [==============================] - 8s 776ms/step - loss: 0.1435 - categorical_accuracy: 0.9677 - val_loss: 1.1635 - val_categorical_accuracy: 0.3825\n",
      "Epoch 37/60\n",
      "10/10 [==============================] - 8s 770ms/step - loss: 0.0720 - categorical_accuracy: 0.9844 - val_loss: 1.1844 - val_categorical_accuracy: 0.3823\n",
      "Epoch 38/60\n",
      "10/10 [==============================] - 8s 769ms/step - loss: 0.0649 - categorical_accuracy: 0.9848 - val_loss: 1.1654 - val_categorical_accuracy: 0.3825\n",
      "Epoch 39/60\n",
      "10/10 [==============================] - 8s 795ms/step - loss: 0.0856 - categorical_accuracy: 0.9792 - val_loss: 1.2046 - val_categorical_accuracy: 0.3843\n",
      "Epoch 40/60\n",
      "10/10 [==============================] - 8s 803ms/step - loss: 0.1055 - categorical_accuracy: 0.9747 - val_loss: 1.1605 - val_categorical_accuracy: 0.3818\n",
      "Epoch 41/60\n",
      "10/10 [==============================] - 8s 794ms/step - loss: 0.0809 - categorical_accuracy: 0.9843 - val_loss: 1.1944 - val_categorical_accuracy: 0.3865\n",
      "Epoch 42/60\n",
      "10/10 [==============================] - 8s 800ms/step - loss: 0.0754 - categorical_accuracy: 0.9850 - val_loss: 1.3250 - val_categorical_accuracy: 0.3836\n",
      "Epoch 43/60\n",
      "10/10 [==============================] - 8s 788ms/step - loss: 0.0561 - categorical_accuracy: 0.9847 - val_loss: 1.2960 - val_categorical_accuracy: 0.3841\n",
      "Epoch 44/60\n",
      "10/10 [==============================] - 8s 756ms/step - loss: 0.1139 - categorical_accuracy: 0.9775 - val_loss: 1.2709 - val_categorical_accuracy: 0.3826\n",
      "Epoch 45/60\n",
      "10/10 [==============================] - 8s 782ms/step - loss: 0.0909 - categorical_accuracy: 0.9771 - val_loss: 1.1371 - val_categorical_accuracy: 0.3857\n",
      "Epoch 46/60\n",
      "10/10 [==============================] - 8s 781ms/step - loss: 0.0784 - categorical_accuracy: 0.9843 - val_loss: 1.2117 - val_categorical_accuracy: 0.3836\n",
      "Epoch 47/60\n",
      "10/10 [==============================] - 8s 774ms/step - loss: 0.0624 - categorical_accuracy: 0.9847 - val_loss: 1.1454 - val_categorical_accuracy: 0.4006\n",
      "Epoch 48/60\n",
      "10/10 [==============================] - 8s 762ms/step - loss: 0.0670 - categorical_accuracy: 0.9827 - val_loss: 1.0977 - val_categorical_accuracy: 0.4200\n",
      "Epoch 49/60\n",
      "10/10 [==============================] - 8s 769ms/step - loss: 0.1238 - categorical_accuracy: 0.9690 - val_loss: 1.1386 - val_categorical_accuracy: 0.4094\n",
      "Epoch 50/60\n"
     ]
    },
    {
     "name": "stdout",
     "output_type": "stream",
     "text": [
      "10/10 [==============================] - 8s 768ms/step - loss: 0.0682 - categorical_accuracy: 0.9856 - val_loss: 1.0847 - val_categorical_accuracy: 0.4579\n",
      "Epoch 51/60\n",
      "10/10 [==============================] - 8s 766ms/step - loss: 0.0710 - categorical_accuracy: 0.9845 - val_loss: 1.1349 - val_categorical_accuracy: 0.4092\n",
      "Epoch 52/60\n",
      "10/10 [==============================] - 8s 781ms/step - loss: 0.0651 - categorical_accuracy: 0.9854 - val_loss: 1.2001 - val_categorical_accuracy: 0.4151\n",
      "Epoch 53/60\n",
      "10/10 [==============================] - 8s 774ms/step - loss: 0.0630 - categorical_accuracy: 0.9846 - val_loss: 1.1318 - val_categorical_accuracy: 0.4303\n",
      "Epoch 54/60\n",
      "10/10 [==============================] - 8s 781ms/step - loss: 0.0950 - categorical_accuracy: 0.9771 - val_loss: 1.1245 - val_categorical_accuracy: 0.4109\n",
      "Epoch 55/60\n",
      "10/10 [==============================] - 8s 779ms/step - loss: 0.0957 - categorical_accuracy: 0.9723 - val_loss: 1.0971 - val_categorical_accuracy: 0.4604\n",
      "Epoch 56/60\n",
      "10/10 [==============================] - 8s 775ms/step - loss: 0.0805 - categorical_accuracy: 0.9842 - val_loss: 1.0764 - val_categorical_accuracy: 0.4993\n",
      "Epoch 57/60\n",
      "10/10 [==============================] - 8s 787ms/step - loss: 0.0676 - categorical_accuracy: 0.9847 - val_loss: 1.3183 - val_categorical_accuracy: 0.4385\n",
      "Epoch 58/60\n",
      "10/10 [==============================] - 8s 777ms/step - loss: 0.0719 - categorical_accuracy: 0.9853 - val_loss: 1.2100 - val_categorical_accuracy: 0.4838\n",
      "Epoch 59/60\n",
      "10/10 [==============================] - 8s 777ms/step - loss: 0.0908 - categorical_accuracy: 0.9763 - val_loss: 1.2002 - val_categorical_accuracy: 0.4731\n",
      "Epoch 60/60\n",
      "10/10 [==============================] - 8s 819ms/step - loss: 0.0661 - categorical_accuracy: 0.9849 - val_loss: 1.3755 - val_categorical_accuracy: 0.4464\n"
     ]
    }
   ],
   "source": [
    "# DNN 학습 모델\n",
    "from tensorflow.keras import models\n",
    "from tensorflow.keras import layers\n",
    "from tensorflow.keras import optimizers\n",
    "from tensorflow.keras import losses\n",
    "from tensorflow.keras import metrics\n",
    "from tensorflow.keras.layers import BatchNormalization\n",
    "#from tensorflow.keras.callbacks import EarlyStopping\n",
    "\n",
    "\n",
    "#callbacks = [EarlyStopping(monitor='val_loss',patience = 20)]\n",
    "model = models.Sequential()\n",
    "n =len(x_train[0])\n",
    "model.add(layers.Dense(first_layer,activation='relu'))#실제 쓸 단어갯수\n",
    "model.add(BatchNormalization())  \n",
    "model.add(layers.Dense(second_layer,activation='relu'))\n",
    "model.add(BatchNormalization())  \n",
    "model.add(layers.Dense(3,activation='softmax'))\n",
    "model.compile(optimizer=optimizers.RMSprop(lr=0.001),loss = losses.categorical_crossentropy,metrics=[metrics.categorical_accuracy])\n",
    "\n",
    "#hist = model.fit(x_train,y_train,epochs=ep,validation_data=(x_train2,y_train2),callbacks=callbacks,batch_size=ba, shuffle=True)\n",
    "hist = model.fit(x_train,y_train,epochs=ep,validation_data=(x_test,y_test),batch_size=ba)\n"
   ]
  },
  {
   "cell_type": "code",
   "execution_count": 13,
   "metadata": {},
   "outputs": [],
   "source": [
    "# 모델의 예측값을 튜플로 반환하는 함수\n",
    "def predict(x):\n",
    "    data = np.expand_dims(np.asarray(x).astype('float32'),axis=0)\n",
    "    result = model.predict(data)\n",
    "    return tuple(result[0])"
   ]
  },
  {
   "cell_type": "code",
   "execution_count": 14,
   "metadata": {},
   "outputs": [],
   "source": [
    "# 모든 날짜의 예측값들을 합치기 위한 튜플의 합 함수\n",
    "def sum_tuple(a,b):\n",
    "    return (a[0]+b[0],a[1]+b[1],a[2]+b[2])"
   ]
  },
  {
   "cell_type": "code",
   "execution_count": 15,
   "metadata": {},
   "outputs": [
    {
     "data": {
      "image/png": "[encoded data removed]",
      "text/plain": [
       "<Figure size 432x288 with 2 Axes>"
      ]
     },
     "metadata": {
      "needs_background": "light"
     },
     "output_type": "display_data"
    }
   ],
   "source": [
    "%matplotlib inline\n",
    "import matplotlib.pyplot as plt\n",
    "\n",
    "fig, acc_ax = plt.subplots()\n",
    "\n",
    "loss_ax = acc_ax.twinx()\n",
    "\n",
    "#loss_ax.plot(hist.history['loss'], 'y', label='train loss')\n",
    "loss_ax.plot(hist.history['val_loss'], 'r', label='val loss')\n",
    "\n",
    "acc_ax.plot(hist.history['categorical_accuracy'], 'b', label='train acc')\n",
    "#acc_ax.plot(hist.history['val_categorical_accuracy'], 'g', label='val acc')\n",
    "\n",
    "loss_ax.set_xlabel('epoch')\n",
    "loss_ax.set_ylabel('loss')\n",
    "acc_ax.set_ylabel('accuray')\n",
    "\n",
    "loss_ax.legend(loc='upper left')\n",
    "acc_ax.legend(loc='lower left')\n",
    "\n",
    "plt.show()"
   ]
  },
  {
   "cell_type": "code",
   "execution_count": 23,
   "metadata": {},
   "outputs": [],
   "source": [
    "# Test set에 대한 예측 및 예측 정확도의 계산\n",
    "import re\n",
    "\"\"\"\n",
    "count = 0\n",
    "sum_dic = {}\n",
    "for data in train2_x:\n",
    "    result = predict(data[0])\n",
    "    if data[1] in sum_dic:\n",
    "        sum_dic[data[1]] = sum_tuple(sum_dic[data[1]],result)\n",
    "    else:\n",
    "        sum_dic[data[1]] = result\n",
    "    \n",
    "for date in sum_dic:\n",
    "    real = train2_y[date]\n",
    "    value = sum_dic[date].index(max(sum_dic[date]))\n",
    "    value -= 1\n",
    "    if real == value:\n",
    "        count = count + 1\n",
    "train_score = count / len(sum_dic)\n",
    "\"\"\"\n",
    "count = 0\n",
    "sum_dic = {}\n",
    "for data in test2_x:\n",
    "    result = predict(data[0])\n",
    "    if data[1] in sum_dic:\n",
    "        sum_dic[data[1]] = sum_tuple(sum_dic[data[1]],result)\n",
    "    else:\n",
    "        sum_dic[data[1]] = result\n",
    "    \n",
    "for date in sum_dic:\n",
    "    real = test2_y[date]\n",
    "    value = sum_dic[date].index(max(sum_dic[date]))\n",
    "    value -= 1\n",
    "    if real == value:\n",
    "        count = count + 1\n",
    "test_score = count / len(sum_dic)"
   ]
  },
  {
   "cell_type": "code",
   "execution_count": 17,
   "metadata": {},
   "outputs": [
    {
     "name": "stdout",
     "output_type": "stream",
     "text": [
      "단어 갯수 : 6000\n",
      "모델 레이어 및 노드 수 :  첫 번째 레이어 - relu, 3000 , 두 번째 레이어 - relu, 1000\n",
      "epochs :  60 , batch_size :  1000\n",
      "train 데이터 정확도 :  1.0\n",
      "test 데이터 정확도 :  0.6494117647058824\n"
     ]
    }
   ],
   "source": [
    "print('단어 갯수 : '+num_word)\n",
    "print('모델 레이어 및 노드 수 : ','첫 번째 레이어 - relu,',first_layer,', 두 번째 레이어 - relu,',second_layer)\n",
    "print('epochs : ',ep,', batch_size : ', ba)\n",
    "print('train 데이터 정확도 : ', train_score)\n",
    "print('test 데이터 정확도 : ', test_score)"
   ]
  },
  {
   "cell_type": "code",
   "execution_count": 22,
   "metadata": {},
   "outputs": [
    {
     "data": {
      "image/png": "[encoded data removed]",
      "text/plain": [
       "<Figure size 432x288 with 2 Axes>"
      ]
     },
     "metadata": {
      "needs_background": "light"
     },
     "output_type": "display_data"
    }
   ],
   "source": [
    "%matplotlib inline\n",
    "import matplotlib.pyplot as plt\n",
    "\n",
    "fig, acc_ax = plt.subplots()\n",
    "\n",
    "loss_ax = acc_ax.twinx()\n",
    "\n",
    "#loss_ax.plot(hist.history['loss'], 'y', label='train loss')\n",
    "loss_ax.plot(hist.history['val_loss'], 'r', label='val loss')\n",
    "\n",
    "acc_ax.plot(hist.history['categorical_accuracy'], 'b', label='train acc')\n",
    "#acc_ax.plot(hist.history['val_categorical_accuracy'], 'g', label='val acc')\n",
    "\n",
    "loss_ax.set_xlabel('epoch')\n",
    "loss_ax.set_ylabel('loss')\n",
    "acc_ax.set_ylabel('accuray')\n",
    "\n",
    "loss_ax.legend(loc='upper left')\n",
    "acc_ax.legend(loc='lower left')\n",
    "\n",
    "plt.show()"
   ]
  },
  {
   "cell_type": "code",
   "execution_count": 24,
   "metadata": {},
   "outputs": [
    {
     "name": "stdout",
     "output_type": "stream",
     "text": [
      "단어 갯수 : 6000\n",
      "모델 레이어 및 노드 수 :  첫 번째 레이어 - relu, 3000 , 두 번째 레이어 - relu, 1000\n",
      "epochs :  60 , batch_size :  1000\n",
      "train 데이터 정확도 :  1.0\n",
      "test 데이터 정확도 :  0.5341176470588235\n"
     ]
    }
   ],
   "source": [
    "print('단어 갯수 : '+num_word)\n",
    "print('모델 레이어 및 노드 수 : ','첫 번째 레이어 - relu,',first_layer,', 두 번째 레이어 - relu,',second_layer)\n",
    "print('epochs : ',ep,', batch_size : ', ba)\n",
    "print('train 데이터 정확도 : ', train_score)\n",
    "print('test 데이터 정확도 : ', test_score)"
   ]
  }
 ],
 "metadata": {
  "kernelspec": {
   "display_name": "Python 3",
   "language": "python",
   "name": "python3"
  },
  "language_info": {
   "codemirror_mode": {
    "name": "ipython",
    "version": 3
   },
   "file_extension": ".py",
   "mimetype": "text/x-python",
   "name": "python",
   "nbconvert_exporter": "python",
   "pygments_lexer": "ipython3",
   "version": "3.8.2"
  }
 },
 "nbformat": 4,
 "nbformat_minor": 4
}
