{
 "cells": [
  {
   "cell_type": "code",
   "execution_count": 10,
   "metadata": {},
   "outputs": [],
   "source": [
    "# 사용할 데이터의 형태\n",
    "data_type = '12'      # '1' : summarize X,개별 기사   '2' : summarize X,날짜별 기사\n",
    "                    # '3' : summarize O,개별 기사   '4' : summarize O,날짜별 기사\n",
    "normalized = 'done' # 'done' : 데이터 행별 normalize한 데이터     'not' : 데이터 행별 normalize 안한 데이터\n",
    "erased_word = ''    # 제거된 단어 형태\n",
    "num_word = '6000'   # 사용할 단어 수\n",
    "\n",
    "# 돌려볼 모델의 구조\n",
    "first_layer = 3000   # 모델의 첫 번째 레이어 수\n",
    "second_layer = 1000  # 모델의 두 번째 레이어 수\n",
    "ep = 60   # 모델의 에포크 수\n",
    "ba = 1000            # 모델의 배치 사이즈"
   ]
  },
  {
   "cell_type": "code",
   "execution_count": 2,
   "metadata": {},
   "outputs": [],
   "source": [
    "# 생성된 training, test의 x,y값을 pickle의 형태로 저장\n",
    "import pickle\n",
    "import os\n",
    "path = os.getcwd()+'/pickles/'\n",
    "if erased_word != '':\n",
    "    erased_word = '_'+erased_word\n",
    "with open(path+data_type+'train_x_'+str(num_word)+'_'+normalized+erased_word+'.pickle', 'rb') as f:\n",
    "    train_x = pickle.load(f)\n",
    "with open(path+data_type+'train_y_'+str(num_word)+'_'+normalized+erased_word+'.pickle', 'rb') as f:\n",
    "    train_y = pickle.load(f)\n",
    "with open(path+data_type+'train2_x_'+str(num_word)+'_'+normalized+erased_word+'.pickle', 'rb') as f:\n",
    "    train2_x = pickle.load(f)\n",
    "with open(path+data_type+'train2_y_'+str(num_word)+'_'+normalized+erased_word+'.pickle', 'rb') as f:\n",
    "    train2_y = pickle.load(f)\n",
    "with open(path+data_type+'test_x_'+str(num_word)+'_'+normalized+erased_word+'.pickle', 'rb') as f:\n",
    "    test_x = pickle.load(f)\n",
    "with open(path+data_type+'test_y_'+str(num_word)+'_'+normalized+erased_word+'.pickle', 'rb') as f:\n",
    "    test_y = pickle.load(f)\n",
    "with open(path+data_type+'test2_x_'+str(num_word)+'_'+normalized+erased_word+'.pickle', 'rb') as f:\n",
    "    test2_x = pickle.load(f)\n",
    "with open(path+data_type+'test2_y_'+str(num_word)+'_'+normalized+erased_word+'.pickle', 'rb') as f:\n",
    "    test2_y = pickle.load(f)"
   ]
  },
  {
   "cell_type": "code",
   "execution_count": 3,
   "metadata": {},
   "outputs": [],
   "source": [
    "# numpy 사용하여 float로 바꾸어주는 과정\n",
    "import numpy as np\n",
    "x_train = np.asarray(train_x).astype('float32')\n",
    "y_train = np.asarray(train_y).astype('float32')\n",
    "x_test = np.asarray(test_x).astype('float32')\n",
    "y_test = np.asarray(test_y).astype('float32')"
   ]
  },
  {
   "cell_type": "code",
   "execution_count": 11,
   "metadata": {
    "scrolled": true
   },
   "outputs": [
    {
     "name": "stdout",
     "output_type": "stream",
     "text": [
      "Epoch 1/60\n",
      "7/7 [==============================] - 4s 585ms/step - loss: 1.0950 - categorical_accuracy: 0.3700 - val_loss: 1.0956 - val_categorical_accuracy: 0.3516\n",
      "Epoch 2/60\n",
      "7/7 [==============================] - 6s 844ms/step - loss: 1.0859 - categorical_accuracy: 0.3729 - val_loss: 1.0892 - val_categorical_accuracy: 0.3746\n",
      "Epoch 3/60\n",
      "7/7 [==============================] - 6s 883ms/step - loss: 1.0754 - categorical_accuracy: 0.3782 - val_loss: 1.0810 - val_categorical_accuracy: 0.3806\n",
      "Epoch 4/60\n",
      "7/7 [==============================] - 6s 855ms/step - loss: 1.0612 - categorical_accuracy: 0.4035 - val_loss: 1.0671 - val_categorical_accuracy: 0.4214\n",
      "Epoch 5/60\n",
      "7/7 [==============================] - 6s 850ms/step - loss: 1.0396 - categorical_accuracy: 0.4635 - val_loss: 1.0742 - val_categorical_accuracy: 0.4040\n",
      "Epoch 6/60\n",
      "7/7 [==============================] - 6s 864ms/step - loss: 1.0069 - categorical_accuracy: 0.4714 - val_loss: 1.0738 - val_categorical_accuracy: 0.3970\n",
      "Epoch 7/60\n",
      "7/7 [==============================] - 6s 867ms/step - loss: 0.9747 - categorical_accuracy: 0.5225 - val_loss: 1.0613 - val_categorical_accuracy: 0.4451\n",
      "Epoch 8/60\n",
      "7/7 [==============================] - 6s 857ms/step - loss: 0.9463 - categorical_accuracy: 0.5602 - val_loss: 1.0753 - val_categorical_accuracy: 0.4321\n",
      "Epoch 9/60\n",
      "7/7 [==============================] - 6s 926ms/step - loss: 0.9279 - categorical_accuracy: 0.5465 - val_loss: 1.0544 - val_categorical_accuracy: 0.4475\n",
      "Epoch 10/60\n",
      "7/7 [==============================] - 8s 1s/step - loss: 0.9018 - categorical_accuracy: 0.5649 - val_loss: 1.1627 - val_categorical_accuracy: 0.4475\n",
      "Epoch 11/60\n",
      "7/7 [==============================] - 6s 850ms/step - loss: 0.8960 - categorical_accuracy: 0.5608 - val_loss: 1.0616 - val_categorical_accuracy: 0.4468\n",
      "Epoch 12/60\n",
      "7/7 [==============================] - 6s 832ms/step - loss: 0.8456 - categorical_accuracy: 0.6124 - val_loss: 1.0420 - val_categorical_accuracy: 0.4709\n",
      "Epoch 13/60\n",
      "7/7 [==============================] - 6s 841ms/step - loss: 0.8442 - categorical_accuracy: 0.6305 - val_loss: 1.1130 - val_categorical_accuracy: 0.4389\n",
      "Epoch 14/60\n",
      "7/7 [==============================] - 6s 908ms/step - loss: 0.7658 - categorical_accuracy: 0.6654 - val_loss: 1.1727 - val_categorical_accuracy: 0.4192\n",
      "Epoch 15/60\n",
      "7/7 [==============================] - 7s 931ms/step - loss: 0.7954 - categorical_accuracy: 0.6389 - val_loss: 1.0650 - val_categorical_accuracy: 0.4795\n",
      "Epoch 16/60\n",
      "7/7 [==============================] - 6s 849ms/step - loss: 0.8022 - categorical_accuracy: 0.6698 - val_loss: 1.0670 - val_categorical_accuracy: 0.4786\n",
      "Epoch 17/60\n",
      "7/7 [==============================] - 6s 851ms/step - loss: 0.7128 - categorical_accuracy: 0.7078 - val_loss: 1.1539 - val_categorical_accuracy: 0.4295\n",
      "Epoch 18/60\n",
      "7/7 [==============================] - 6s 853ms/step - loss: 0.6806 - categorical_accuracy: 0.6958 - val_loss: 1.1869 - val_categorical_accuracy: 0.4701\n",
      "Epoch 19/60\n",
      "7/7 [==============================] - 6s 881ms/step - loss: 0.6899 - categorical_accuracy: 0.6990 - val_loss: 1.2075 - val_categorical_accuracy: 0.4725\n",
      "Epoch 20/60\n",
      "7/7 [==============================] - 6s 893ms/step - loss: 0.6390 - categorical_accuracy: 0.7179 - val_loss: 1.3552 - val_categorical_accuracy: 0.4720\n",
      "Epoch 21/60\n",
      "7/7 [==============================] - 6s 861ms/step - loss: 0.6150 - categorical_accuracy: 0.7480 - val_loss: 1.1510 - val_categorical_accuracy: 0.4492\n",
      "Epoch 22/60\n",
      "7/7 [==============================] - 6s 844ms/step - loss: 0.6123 - categorical_accuracy: 0.7319 - val_loss: 1.3403 - val_categorical_accuracy: 0.4396\n",
      "Epoch 23/60\n",
      "7/7 [==============================] - 6s 894ms/step - loss: 0.5802 - categorical_accuracy: 0.7592 - val_loss: 1.2288 - val_categorical_accuracy: 0.4830\n",
      "Epoch 24/60\n",
      "7/7 [==============================] - 6s 810ms/step - loss: 0.5625 - categorical_accuracy: 0.7622 - val_loss: 1.3826 - val_categorical_accuracy: 0.4817\n",
      "Epoch 25/60\n",
      "7/7 [==============================] - 6s 834ms/step - loss: 0.5654 - categorical_accuracy: 0.7472 - val_loss: 1.1178 - val_categorical_accuracy: 0.5008\n",
      "Epoch 26/60\n",
      "7/7 [==============================] - 6s 834ms/step - loss: 0.4480 - categorical_accuracy: 0.8325 - val_loss: 1.2147 - val_categorical_accuracy: 0.4505\n",
      "Epoch 27/60\n",
      "7/7 [==============================] - 6s 837ms/step - loss: 0.5284 - categorical_accuracy: 0.7770 - val_loss: 1.2382 - val_categorical_accuracy: 0.4970\n",
      "Epoch 28/60\n",
      "7/7 [==============================] - 6s 828ms/step - loss: 0.4651 - categorical_accuracy: 0.8102 - val_loss: 1.4200 - val_categorical_accuracy: 0.4503\n",
      "Epoch 29/60\n",
      "7/7 [==============================] - 6s 829ms/step - loss: 0.4462 - categorical_accuracy: 0.8309 - val_loss: 1.2927 - val_categorical_accuracy: 0.4826\n",
      "Epoch 30/60\n",
      "7/7 [==============================] - 6s 828ms/step - loss: 0.4411 - categorical_accuracy: 0.8212 - val_loss: 1.3161 - val_categorical_accuracy: 0.4692\n",
      "Epoch 31/60\n",
      "7/7 [==============================] - 6s 886ms/step - loss: 0.4698 - categorical_accuracy: 0.8292 - val_loss: 1.2588 - val_categorical_accuracy: 0.5012\n",
      "Epoch 32/60\n",
      "7/7 [==============================] - 6s 843ms/step - loss: 0.4149 - categorical_accuracy: 0.8361 - val_loss: 1.3356 - val_categorical_accuracy: 0.4729\n",
      "Epoch 33/60\n",
      "7/7 [==============================] - 6s 840ms/step - loss: 0.4055 - categorical_accuracy: 0.8586 - val_loss: 1.5895 - val_categorical_accuracy: 0.4878\n",
      "Epoch 34/60\n",
      "7/7 [==============================] - 6s 826ms/step - loss: 0.3685 - categorical_accuracy: 0.8522 - val_loss: 1.5498 - val_categorical_accuracy: 0.5087\n",
      "Epoch 35/60\n",
      "7/7 [==============================] - 6s 834ms/step - loss: 0.3546 - categorical_accuracy: 0.8540 - val_loss: 1.4416 - val_categorical_accuracy: 0.4885\n",
      "Epoch 36/60\n",
      "7/7 [==============================] - 6s 831ms/step - loss: 0.3483 - categorical_accuracy: 0.8629 - val_loss: 1.2856 - val_categorical_accuracy: 0.5078\n",
      "Epoch 37/60\n",
      "7/7 [==============================] - 6s 830ms/step - loss: 0.2773 - categorical_accuracy: 0.9075 - val_loss: 1.5069 - val_categorical_accuracy: 0.4260\n",
      "Epoch 38/60\n",
      "7/7 [==============================] - 6s 827ms/step - loss: 0.3481 - categorical_accuracy: 0.8636 - val_loss: 1.4327 - val_categorical_accuracy: 0.5192\n",
      "Epoch 39/60\n",
      "7/7 [==============================] - 7s 945ms/step - loss: 0.1411 - categorical_accuracy: 0.9671 - val_loss: 1.6899 - val_categorical_accuracy: 0.5093\n",
      "Epoch 40/60\n",
      "7/7 [==============================] - 6s 846ms/step - loss: 0.4488 - categorical_accuracy: 0.8356 - val_loss: 1.3676 - val_categorical_accuracy: 0.5080\n",
      "Epoch 41/60\n",
      "7/7 [==============================] - 6s 835ms/step - loss: 0.1404 - categorical_accuracy: 0.9689 - val_loss: 1.8357 - val_categorical_accuracy: 0.4848\n",
      "Epoch 42/60\n",
      "7/7 [==============================] - 6s 856ms/step - loss: 0.5860 - categorical_accuracy: 0.7860 - val_loss: 1.2993 - val_categorical_accuracy: 0.4990\n",
      "Epoch 43/60\n",
      "7/7 [==============================] - 6s 831ms/step - loss: 0.1263 - categorical_accuracy: 0.9809 - val_loss: 1.5268 - val_categorical_accuracy: 0.5166\n",
      "Epoch 44/60\n",
      "7/7 [==============================] - 6s 838ms/step - loss: 0.1164 - categorical_accuracy: 0.9688 - val_loss: 1.7768 - val_categorical_accuracy: 0.4705\n",
      "Epoch 45/60\n",
      "7/7 [==============================] - 6s 837ms/step - loss: 0.4238 - categorical_accuracy: 0.8517 - val_loss: 1.4055 - val_categorical_accuracy: 0.5229\n",
      "Epoch 46/60\n",
      "7/7 [==============================] - 6s 877ms/step - loss: 0.1021 - categorical_accuracy: 0.9796 - val_loss: 1.7689 - val_categorical_accuracy: 0.5109\n",
      "Epoch 47/60\n",
      "7/7 [==============================] - 6s 924ms/step - loss: 0.3605 - categorical_accuracy: 0.8826 - val_loss: 1.5236 - val_categorical_accuracy: 0.5146\n",
      "Epoch 48/60\n",
      "7/7 [==============================] - 6s 921ms/step - loss: 0.0960 - categorical_accuracy: 0.9796 - val_loss: 1.6265 - val_categorical_accuracy: 0.4973\n",
      "Epoch 49/60\n",
      "7/7 [==============================] - 7s 937ms/step - loss: 0.2846 - categorical_accuracy: 0.9076 - val_loss: 1.3954 - val_categorical_accuracy: 0.5271\n",
      "Epoch 50/60\n",
      "7/7 [==============================] - 6s 897ms/step - loss: 0.1341 - categorical_accuracy: 0.9678 - val_loss: 1.5817 - val_categorical_accuracy: 0.5188\n"
     ]
    },
    {
     "name": "stdout",
     "output_type": "stream",
     "text": [
      "Epoch 51/60\n",
      "7/7 [==============================] - 6s 855ms/step - loss: 0.0615 - categorical_accuracy: 0.9887 - val_loss: 1.7300 - val_categorical_accuracy: 0.5196\n",
      "Epoch 52/60\n",
      "7/7 [==============================] - 6s 859ms/step - loss: 0.1081 - categorical_accuracy: 0.9658 - val_loss: 3.3985 - val_categorical_accuracy: 0.4058\n",
      "Epoch 53/60\n",
      "7/7 [==============================] - 6s 845ms/step - loss: 0.6389 - categorical_accuracy: 0.7985 - val_loss: 1.4514 - val_categorical_accuracy: 0.5236\n",
      "Epoch 54/60\n",
      "7/7 [==============================] - 6s 842ms/step - loss: 0.0672 - categorical_accuracy: 0.9901 - val_loss: 1.6396 - val_categorical_accuracy: 0.5225\n",
      "Epoch 55/60\n",
      "7/7 [==============================] - 6s 841ms/step - loss: 0.0505 - categorical_accuracy: 0.9906 - val_loss: 1.7450 - val_categorical_accuracy: 0.5185\n",
      "Epoch 56/60\n",
      "7/7 [==============================] - 6s 851ms/step - loss: 0.0459 - categorical_accuracy: 0.9898 - val_loss: 1.9413 - val_categorical_accuracy: 0.5212\n",
      "Epoch 57/60\n",
      "7/7 [==============================] - 6s 884ms/step - loss: 0.3555 - categorical_accuracy: 0.8961 - val_loss: 1.5329 - val_categorical_accuracy: 0.5185\n",
      "Epoch 58/60\n",
      "7/7 [==============================] - 6s 901ms/step - loss: 0.0733 - categorical_accuracy: 0.9901 - val_loss: 1.6646 - val_categorical_accuracy: 0.5251\n",
      "Epoch 59/60\n",
      "7/7 [==============================] - 6s 858ms/step - loss: 0.0439 - categorical_accuracy: 0.9901 - val_loss: 2.4995 - val_categorical_accuracy: 0.4898\n",
      "Epoch 60/60\n",
      "7/7 [==============================] - 6s 853ms/step - loss: 0.5426 - categorical_accuracy: 0.7865 - val_loss: 1.4744 - val_categorical_accuracy: 0.5247\n"
     ]
    }
   ],
   "source": [
    "# DNN 학습 모델\n",
    "from tensorflow.keras import models\n",
    "from tensorflow.keras import layers\n",
    "from tensorflow.keras import optimizers\n",
    "from tensorflow.keras import losses\n",
    "from tensorflow.keras import metrics\n",
    "#from tensorflow.keras.callbacks import EarlyStopping\n",
    "\n",
    "\n",
    "#callbacks = [EarlyStopping(monitor='val_loss',patience = 20)]\n",
    "model = models.Sequential()\n",
    "n =len(x_train[0])\n",
    "model.add(layers.Dense(first_layer,activation='relu'))#실제 쓸 단어갯수\n",
    "model.add(layers.Dense(second_layer,activation='relu'))\n",
    "model.add(layers.Dense(3,activation='softmax'))\n",
    "model.compile(optimizer=optimizers.RMSprop(lr=0.001),loss = losses.categorical_crossentropy,metrics=[metrics.categorical_accuracy])\n",
    "\n",
    "#hist = model.fit(x_train,y_train,epochs=ep,validation_data=(x_train2,y_train2),callbacks=callbacks,batch_size=ba, shuffle=True)\n",
    "hist = model.fit(x_train,y_train,epochs=ep,validation_data=(x_test,y_test),batch_size=ba)\n"
   ]
  },
  {
   "cell_type": "code",
   "execution_count": 5,
   "metadata": {},
   "outputs": [],
   "source": [
    "# 모델의 예측값을 튜플로 반환하는 함수\n",
    "def predict(x):\n",
    "    data = np.expand_dims(np.asarray(x).astype('float32'),axis=0)\n",
    "    result = model.predict(data)\n",
    "    return tuple(result[0])"
   ]
  },
  {
   "cell_type": "code",
   "execution_count": 6,
   "metadata": {},
   "outputs": [],
   "source": [
    "# 모든 날짜의 예측값들을 합치기 위한 튜플의 합 함수\n",
    "def sum_tuple(a,b):\n",
    "    return (a[0]+b[0],a[1]+b[1],a[2]+b[2])"
   ]
  },
  {
   "cell_type": "code",
   "execution_count": 12,
   "metadata": {},
   "outputs": [
    {
     "data": {
      "image/png": "[encoded data removed]",
      "text/plain": [
       "<Figure size 432x288 with 2 Axes>"
      ]
     },
     "metadata": {
      "needs_background": "light"
     },
     "output_type": "display_data"
    }
   ],
   "source": [
    "%matplotlib inline\n",
    "import matplotlib.pyplot as plt\n",
    "\n",
    "fig, acc_ax = plt.subplots()\n",
    "\n",
    "loss_ax = acc_ax.twinx()\n",
    "\n",
    "loss_ax.plot(hist.history['loss'], 'y', label='train loss')\n",
    "loss_ax.plot(hist.history['val_loss'], 'r', label='val loss')\n",
    "\n",
    "acc_ax.plot(hist.history['categorical_accuracy'], 'b', label='train acc')\n",
    "acc_ax.plot(hist.history['val_categorical_accuracy'], 'g', label='val acc')\n",
    "\n",
    "loss_ax.set_xlabel('epoch')\n",
    "loss_ax.set_ylabel('loss')\n",
    "acc_ax.set_ylabel('accuray')\n",
    "\n",
    "loss_ax.legend(loc='upper left')\n",
    "acc_ax.legend(loc='lower left')\n",
    "\n",
    "plt.show()"
   ]
  },
  {
   "cell_type": "code",
   "execution_count": 13,
   "metadata": {},
   "outputs": [],
   "source": [
    "# Test set에 대한 예측 및 예측 정확도의 계산\n",
    "import re\n",
    "\"\"\"\n",
    "count = 0\n",
    "sum_dic = {}\n",
    "for data in train2_x:\n",
    "    result = predict(data[0])\n",
    "    if data[1] in sum_dic:\n",
    "        sum_dic[data[1]] = sum_tuple(sum_dic[data[1]],result)\n",
    "    else:\n",
    "        sum_dic[data[1]] = result\n",
    "    \n",
    "for date in sum_dic:\n",
    "    real = train2_y[date]\n",
    "    value = sum_dic[date].index(max(sum_dic[date]))\n",
    "    value -= 1\n",
    "    if real == value:\n",
    "        count = count + 1\n",
    "train_score = count / len(sum_dic)\n",
    "\"\"\"\n",
    "count = 0\n",
    "sum_dic = {}\n",
    "for data in test2_x:\n",
    "    result = predict(data[0])\n",
    "    if data[1] in sum_dic:\n",
    "        sum_dic[data[1]] = sum_tuple(sum_dic[data[1]],result)\n",
    "    else:\n",
    "        sum_dic[data[1]] = result\n",
    "    \n",
    "for date in sum_dic:\n",
    "    real = test2_y[date]\n",
    "    value = sum_dic[date].index(max(sum_dic[date]))\n",
    "    value -= 1\n",
    "    if real == value:\n",
    "        count = count + 1\n",
    "test_score = count / len(sum_dic)"
   ]
  },
  {
   "cell_type": "code",
   "execution_count": 14,
   "metadata": {},
   "outputs": [
    {
     "name": "stdout",
     "output_type": "stream",
     "text": [
      "단어 갯수 : 6000\n",
      "모델 레이어 및 노드 수 :  첫 번째 레이어 - relu, 3000 , 두 번째 레이어 - relu, 1000\n",
      "epochs :  60 , batch_size :  1000\n",
      "test 데이터 정확도 :  0.7809798270893372\n"
     ]
    }
   ],
   "source": [
    "print('단어 갯수 : '+num_word)\n",
    "print('모델 레이어 및 노드 수 : ','첫 번째 레이어 - relu,',first_layer,', 두 번째 레이어 - relu,',second_layer)\n",
    "print('epochs : ',ep,', batch_size : ', ba)\n",
    "#print('train 데이터 정확도 : ', train_score)\n",
    "print('test 데이터 정확도 : ', test_score)"
   ]
  }
 ],
 "metadata": {
  "kernelspec": {
   "display_name": "Python 3",
   "language": "python",
   "name": "python3"
  },
  "language_info": {
   "codemirror_mode": {
    "name": "ipython",
    "version": 3
   },
   "file_extension": ".py",
   "mimetype": "text/x-python",
   "name": "python",
   "nbconvert_exporter": "python",
   "pygments_lexer": "ipython3",
   "version": "3.8.2"
  }
 },
 "nbformat": 4,
 "nbformat_minor": 4
}
