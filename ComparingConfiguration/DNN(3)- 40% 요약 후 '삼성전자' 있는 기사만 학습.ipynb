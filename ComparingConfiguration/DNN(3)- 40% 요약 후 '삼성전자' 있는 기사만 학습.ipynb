{
 "cells": [
  {
   "cell_type": "code",
   "execution_count": 5,
   "metadata": {},
   "outputs": [],
   "source": [
    "# 사용할 데이터의 형태\n",
    "data_type = '3'      # '1' : summarize X,개별 기사   '2' : summarize X,날짜별 기사\n",
    "                    # '3' : summarize O,개별 기사   '4' : summarize O,날짜별 기사\n",
    "normalized = 'done' # 'done' : 데이터 행별 normalize한 데이터     'not' : 데이터 행별 normalize 안한 데이터\n",
    "erased_word = ''    # 제거된 단어 형태\n",
    "num_word = '6000'   # 사용할 단어 수\n",
    "\n",
    "# 돌려볼 모델의 구조\n",
    "first_layer = 3000   # 모델의 첫 번째 레이어 수\n",
    "second_layer = 1000  # 모델의 두 번째 레이어 수\n",
    "ep = 60             # 모델의 에포크 수\n",
    "ba = 1000            # 모델의 배치 사이즈"
   ]
  },
  {
   "cell_type": "code",
   "execution_count": 2,
   "metadata": {},
   "outputs": [],
   "source": [
    "# 생성된 training, test의 x,y값을 pickle의 형태로 저장\n",
    "import pickle\n",
    "import os\n",
    "path = os.getcwd()+'/pickles/'\n",
    "if erased_word != '':\n",
    "    erased_word = '_'+erased_word\n",
    "with open(path+data_type+'train_x_'+str(num_word)+'_'+normalized+erased_word+'.pickle', 'rb') as f:\n",
    "    train_x = pickle.load(f)\n",
    "with open(path+data_type+'train_y_'+str(num_word)+'_'+normalized+erased_word+'.pickle', 'rb') as f:\n",
    "    train_y = pickle.load(f)\n",
    "with open(path+data_type+'train2_x_'+str(num_word)+'_'+normalized+erased_word+'.pickle', 'rb') as f:\n",
    "    train2_x = pickle.load(f)\n",
    "with open(path+data_type+'train2_y_'+str(num_word)+'_'+normalized+erased_word+'.pickle', 'rb') as f:\n",
    "    train2_y = pickle.load(f)\n",
    "with open(path+data_type+'test_x_'+str(num_word)+'_'+normalized+erased_word+'.pickle', 'rb') as f:\n",
    "    test_x = pickle.load(f)\n",
    "with open(path+data_type+'test_y_'+str(num_word)+'_'+normalized+erased_word+'.pickle', 'rb') as f:\n",
    "    test_y = pickle.load(f)\n",
    "with open(path+data_type+'test2_x_'+str(num_word)+'_'+normalized+erased_word+'.pickle', 'rb') as f:\n",
    "    test2_x = pickle.load(f)\n",
    "with open(path+data_type+'test2_y_'+str(num_word)+'_'+normalized+erased_word+'.pickle', 'rb') as f:\n",
    "    test2_y = pickle.load(f)"
   ]
  },
  {
   "cell_type": "code",
   "execution_count": 3,
   "metadata": {},
   "outputs": [],
   "source": [
    "# numpy 사용하여 float로 바꾸어주는 과정\n",
    "import numpy as np\n",
    "x_train = np.asarray(train_x).astype('float32')\n",
    "y_train = np.asarray(train_y).astype('float32')\n",
    "x_test = np.asarray(test_x).astype('float32')\n",
    "y_test = np.asarray(test_y).astype('float32')"
   ]
  },
  {
   "cell_type": "code",
   "execution_count": 6,
   "metadata": {
    "scrolled": true
   },
   "outputs": [
    {
     "name": "stdout",
     "output_type": "stream",
     "text": [
      "Epoch 1/60\n",
      "9/9 [==============================] - 6s 685ms/step - loss: 1.0964 - categorical_accuracy: 0.3564 - val_loss: 1.0937 - val_categorical_accuracy: 0.3701\n",
      "Epoch 2/60\n",
      "9/9 [==============================] - 6s 664ms/step - loss: 1.0845 - categorical_accuracy: 0.3898 - val_loss: 1.0940 - val_categorical_accuracy: 0.3583\n",
      "Epoch 3/60\n",
      "9/9 [==============================] - 6s 655ms/step - loss: 1.0684 - categorical_accuracy: 0.3990 - val_loss: 1.0769 - val_categorical_accuracy: 0.3996\n",
      "Epoch 4/60\n",
      "9/9 [==============================] - 6s 638ms/step - loss: 1.0513 - categorical_accuracy: 0.4525 - val_loss: 1.1196 - val_categorical_accuracy: 0.3643\n",
      "Epoch 5/60\n",
      "9/9 [==============================] - 6s 653ms/step - loss: 1.0188 - categorical_accuracy: 0.4736 - val_loss: 1.0909 - val_categorical_accuracy: 0.4165\n",
      "Epoch 6/60\n",
      "9/9 [==============================] - 6s 632ms/step - loss: 0.9737 - categorical_accuracy: 0.5088 - val_loss: 1.1277 - val_categorical_accuracy: 0.3836\n",
      "Epoch 7/60\n",
      "9/9 [==============================] - 5s 602ms/step - loss: 0.9503 - categorical_accuracy: 0.5330 - val_loss: 1.1642 - val_categorical_accuracy: 0.3824\n",
      "Epoch 8/60\n",
      "9/9 [==============================] - 5s 607ms/step - loss: 0.9193 - categorical_accuracy: 0.5698 - val_loss: 1.3213 - val_categorical_accuracy: 0.3750\n",
      "Epoch 9/60\n",
      "9/9 [==============================] - 5s 599ms/step - loss: 0.9097 - categorical_accuracy: 0.5738 - val_loss: 1.0440 - val_categorical_accuracy: 0.4476\n",
      "Epoch 10/60\n",
      "9/9 [==============================] - 5s 597ms/step - loss: 0.8450 - categorical_accuracy: 0.6162 - val_loss: 1.1166 - val_categorical_accuracy: 0.4135\n",
      "Epoch 11/60\n",
      "9/9 [==============================] - 6s 614ms/step - loss: 0.8174 - categorical_accuracy: 0.6322 - val_loss: 1.1033 - val_categorical_accuracy: 0.4590\n",
      "Epoch 12/60\n",
      "9/9 [==============================] - 6s 661ms/step - loss: 0.7856 - categorical_accuracy: 0.6459 - val_loss: 1.2452 - val_categorical_accuracy: 0.4100\n",
      "Epoch 13/60\n",
      "9/9 [==============================] - 7s 728ms/step - loss: 0.7605 - categorical_accuracy: 0.6609 - val_loss: 1.1432 - val_categorical_accuracy: 0.4490\n",
      "Epoch 14/60\n",
      "9/9 [==============================] - 6s 683ms/step - loss: 0.7182 - categorical_accuracy: 0.6804 - val_loss: 1.0807 - val_categorical_accuracy: 0.4579\n",
      "Epoch 15/60\n",
      "9/9 [==============================] - 6s 704ms/step - loss: 0.7077 - categorical_accuracy: 0.6934 - val_loss: 1.1495 - val_categorical_accuracy: 0.4344\n",
      "Epoch 16/60\n",
      "9/9 [==============================] - 6s 680ms/step - loss: 0.7108 - categorical_accuracy: 0.6821 - val_loss: 1.0562 - val_categorical_accuracy: 0.4713\n",
      "Epoch 17/60\n",
      "9/9 [==============================] - 6s 650ms/step - loss: 0.5591 - categorical_accuracy: 0.7792 - val_loss: 1.6466 - val_categorical_accuracy: 0.4270\n",
      "Epoch 18/60\n",
      "9/9 [==============================] - 6s 630ms/step - loss: 0.7099 - categorical_accuracy: 0.7228 - val_loss: 1.1744 - val_categorical_accuracy: 0.4739\n",
      "Epoch 19/60\n",
      "9/9 [==============================] - 6s 629ms/step - loss: 0.5712 - categorical_accuracy: 0.7708 - val_loss: 1.1462 - val_categorical_accuracy: 0.4586\n",
      "Epoch 20/60\n",
      "9/9 [==============================] - 5s 590ms/step - loss: 0.5942 - categorical_accuracy: 0.7592 - val_loss: 1.1275 - val_categorical_accuracy: 0.4736\n",
      "Epoch 21/60\n",
      "9/9 [==============================] - 5s 582ms/step - loss: 0.5201 - categorical_accuracy: 0.7918 - val_loss: 1.1672 - val_categorical_accuracy: 0.4713\n",
      "Epoch 22/60\n",
      "9/9 [==============================] - 5s 604ms/step - loss: 0.5026 - categorical_accuracy: 0.7910 - val_loss: 1.1772 - val_categorical_accuracy: 0.4644\n",
      "Epoch 23/60\n",
      "9/9 [==============================] - 5s 589ms/step - loss: 0.4361 - categorical_accuracy: 0.8335 - val_loss: 1.6842 - val_categorical_accuracy: 0.4170\n",
      "Epoch 24/60\n",
      "9/9 [==============================] - 5s 604ms/step - loss: 0.4422 - categorical_accuracy: 0.8343 - val_loss: 1.4342 - val_categorical_accuracy: 0.4483\n",
      "Epoch 25/60\n",
      "9/9 [==============================] - 5s 610ms/step - loss: 0.4821 - categorical_accuracy: 0.8003 - val_loss: 1.3155 - val_categorical_accuracy: 0.4841\n",
      "Epoch 26/60\n",
      "9/9 [==============================] - 6s 631ms/step - loss: 0.3624 - categorical_accuracy: 0.8599 - val_loss: 1.3360 - val_categorical_accuracy: 0.4541\n",
      "Epoch 27/60\n",
      "9/9 [==============================] - 6s 645ms/step - loss: 0.3558 - categorical_accuracy: 0.8642 - val_loss: 1.4879 - val_categorical_accuracy: 0.4562\n",
      "Epoch 28/60\n",
      "9/9 [==============================] - 6s 722ms/step - loss: 0.3859 - categorical_accuracy: 0.8607 - val_loss: 1.3505 - val_categorical_accuracy: 0.4084\n",
      "Epoch 29/60\n",
      "9/9 [==============================] - 6s 703ms/step - loss: 0.2703 - categorical_accuracy: 0.9205 - val_loss: 1.3984 - val_categorical_accuracy: 0.5087\n",
      "Epoch 30/60\n",
      "9/9 [==============================] - 6s 684ms/step - loss: 0.3427 - categorical_accuracy: 0.8620 - val_loss: 1.2959 - val_categorical_accuracy: 0.4785\n",
      "Epoch 31/60\n",
      "9/9 [==============================] - 6s 641ms/step - loss: 0.2507 - categorical_accuracy: 0.9144 - val_loss: 1.1576 - val_categorical_accuracy: 0.5073\n",
      "Epoch 32/60\n",
      "9/9 [==============================] - 6s 623ms/step - loss: 0.2306 - categorical_accuracy: 0.9376 - val_loss: 1.4358 - val_categorical_accuracy: 0.4894\n",
      "Epoch 33/60\n",
      "9/9 [==============================] - 6s 623ms/step - loss: 0.2747 - categorical_accuracy: 0.8997 - val_loss: 1.5666 - val_categorical_accuracy: 0.4678\n",
      "Epoch 34/60\n",
      "9/9 [==============================] - 5s 609ms/step - loss: 0.1864 - categorical_accuracy: 0.9445 - val_loss: 1.6546 - val_categorical_accuracy: 0.5108\n",
      "Epoch 35/60\n",
      "9/9 [==============================] - 5s 586ms/step - loss: 0.4160 - categorical_accuracy: 0.8312 - val_loss: 1.2596 - val_categorical_accuracy: 0.5143\n",
      "Epoch 36/60\n",
      "9/9 [==============================] - 5s 581ms/step - loss: 0.1131 - categorical_accuracy: 0.9785 - val_loss: 1.6407 - val_categorical_accuracy: 0.5099\n",
      "Epoch 37/60\n",
      "9/9 [==============================] - 5s 566ms/step - loss: 0.1552 - categorical_accuracy: 0.9536 - val_loss: 1.6034 - val_categorical_accuracy: 0.5117\n",
      "Epoch 38/60\n",
      "9/9 [==============================] - 5s 567ms/step - loss: 0.3808 - categorical_accuracy: 0.8687 - val_loss: 1.3465 - val_categorical_accuracy: 0.5194\n",
      "Epoch 39/60\n",
      "9/9 [==============================] - 5s 586ms/step - loss: 0.1004 - categorical_accuracy: 0.9794 - val_loss: 2.1620 - val_categorical_accuracy: 0.4597\n",
      "Epoch 40/60\n",
      "9/9 [==============================] - 5s 589ms/step - loss: 0.2834 - categorical_accuracy: 0.8925 - val_loss: 1.5495 - val_categorical_accuracy: 0.5210\n",
      "Epoch 41/60\n",
      "9/9 [==============================] - 8s 859ms/step - loss: 0.0735 - categorical_accuracy: 0.9846 - val_loss: 2.1813 - val_categorical_accuracy: 0.4493\n",
      "Epoch 42/60\n",
      "9/9 [==============================] - 6s 678ms/step - loss: 0.3116 - categorical_accuracy: 0.9054 - val_loss: 1.5717 - val_categorical_accuracy: 0.5254\n",
      "Epoch 43/60\n",
      "9/9 [==============================] - 6s 662ms/step - loss: 0.0940 - categorical_accuracy: 0.9733 - val_loss: 1.9378 - val_categorical_accuracy: 0.4818\n",
      "Epoch 44/60\n",
      "9/9 [==============================] - 7s 728ms/step - loss: 0.0756 - categorical_accuracy: 0.9831 - val_loss: 1.8288 - val_categorical_accuracy: 0.5185\n",
      "Epoch 45/60\n",
      "9/9 [==============================] - 6s 706ms/step - loss: 0.4041 - categorical_accuracy: 0.8558 - val_loss: 1.2674 - val_categorical_accuracy: 0.5298\n",
      "Epoch 46/60\n",
      "9/9 [==============================] - 6s 681ms/step - loss: 0.0673 - categorical_accuracy: 0.9946 - val_loss: 1.6802 - val_categorical_accuracy: 0.5217\n",
      "Epoch 47/60\n",
      "9/9 [==============================] - 6s 653ms/step - loss: 0.0517 - categorical_accuracy: 0.9882 - val_loss: 1.8515 - val_categorical_accuracy: 0.5210\n",
      "Epoch 48/60\n",
      "9/9 [==============================] - 6s 611ms/step - loss: 0.0436 - categorical_accuracy: 0.9904 - val_loss: 2.7231 - val_categorical_accuracy: 0.4834\n",
      "Epoch 49/60\n",
      "9/9 [==============================] - 5s 579ms/step - loss: 1.4458 - categorical_accuracy: 0.7889 - val_loss: 1.5577 - val_categorical_accuracy: 0.5152\n",
      "Epoch 50/60\n",
      "9/9 [==============================] - 5s 578ms/step - loss: 0.0501 - categorical_accuracy: 0.9946 - val_loss: 1.6927 - val_categorical_accuracy: 0.5233\n"
     ]
    },
    {
     "name": "stdout",
     "output_type": "stream",
     "text": [
      "Epoch 51/60\n",
      "9/9 [==============================] - 7s 803ms/step - loss: 0.0370 - categorical_accuracy: 0.9959 - val_loss: 1.8193 - val_categorical_accuracy: 0.5212\n",
      "Epoch 52/60\n",
      "9/9 [==============================] - 6s 622ms/step - loss: 0.0323 - categorical_accuracy: 0.9950 - val_loss: 1.9643 - val_categorical_accuracy: 0.5194\n",
      "Epoch 53/60\n",
      "9/9 [==============================] - 6s 638ms/step - loss: 0.0802 - categorical_accuracy: 0.9726 - val_loss: 2.7508 - val_categorical_accuracy: 0.4372\n",
      "Epoch 54/60\n",
      "9/9 [==============================] - 6s 634ms/step - loss: 0.2157 - categorical_accuracy: 0.9148 - val_loss: 1.6946 - val_categorical_accuracy: 0.5240\n",
      "Epoch 55/60\n",
      "9/9 [==============================] - 6s 684ms/step - loss: 0.0291 - categorical_accuracy: 0.9969 - val_loss: 1.9918 - val_categorical_accuracy: 0.5103\n",
      "Epoch 56/60\n",
      "9/9 [==============================] - 6s 645ms/step - loss: 0.0501 - categorical_accuracy: 0.9842 - val_loss: 1.9886 - val_categorical_accuracy: 0.5182\n",
      "Epoch 57/60\n",
      "9/9 [==============================] - 6s 643ms/step - loss: 0.0260 - categorical_accuracy: 0.9948 - val_loss: 2.4398 - val_categorical_accuracy: 0.4955\n",
      "Epoch 58/60\n",
      "9/9 [==============================] - 6s 652ms/step - loss: 0.4965 - categorical_accuracy: 0.9169 - val_loss: 1.5611 - val_categorical_accuracy: 0.5301\n",
      "Epoch 59/60\n",
      "9/9 [==============================] - 6s 656ms/step - loss: 0.0259 - categorical_accuracy: 0.9977 - val_loss: 1.8393 - val_categorical_accuracy: 0.5189\n",
      "Epoch 60/60\n",
      "9/9 [==============================] - 6s 654ms/step - loss: 0.0360 - categorical_accuracy: 0.9907 - val_loss: 2.0353 - val_categorical_accuracy: 0.5205\n"
     ]
    }
   ],
   "source": [
    "# DNN 학습 모델\n",
    "from tensorflow.keras import models\n",
    "from tensorflow.keras import layers\n",
    "from tensorflow.keras import optimizers\n",
    "from tensorflow.keras import losses\n",
    "from tensorflow.keras import metrics\n",
    "#from tensorflow.keras.callbacks import EarlyStopping\n",
    "\n",
    "\n",
    "#callbacks = [EarlyStopping(monitor='val_loss',patience = 20)]\n",
    "model = models.Sequential()\n",
    "n =len(x_train[0])\n",
    "model.add(layers.Dense(first_layer,activation='relu'))#실제 쓸 단어갯수\n",
    "model.add(layers.Dense(second_layer,activation='relu'))\n",
    "model.add(layers.Dense(3,activation='softmax'))\n",
    "model.compile(optimizer=optimizers.RMSprop(lr=0.001),loss = losses.categorical_crossentropy,metrics=[metrics.categorical_accuracy])\n",
    "\n",
    "#hist = model.fit(x_train,y_train,epochs=ep,validation_data=(x_train2,y_train2),callbacks=callbacks,batch_size=ba, shuffle=True)\n",
    "hist = model.fit(x_train,y_train,epochs=ep,validation_data=(x_test,y_test),batch_size=ba)\n"
   ]
  },
  {
   "cell_type": "code",
   "execution_count": 7,
   "metadata": {},
   "outputs": [],
   "source": [
    "# 모델의 예측값을 튜플로 반환하는 함수\n",
    "def predict(x):\n",
    "    data = np.expand_dims(np.asarray(x).astype('float32'),axis=0)\n",
    "    result = model.predict(data)\n",
    "    return tuple(result[0])"
   ]
  },
  {
   "cell_type": "code",
   "execution_count": 8,
   "metadata": {},
   "outputs": [],
   "source": [
    "# 모든 날짜의 예측값들을 합치기 위한 튜플의 합 함수\n",
    "def sum_tuple(a,b):\n",
    "    return (a[0]+b[0],a[1]+b[1],a[2]+b[2])"
   ]
  },
  {
   "cell_type": "code",
   "execution_count": 9,
   "metadata": {},
   "outputs": [
    {
     "data": {
      "image/png": "[encoded data removed]",
      "text/plain": [
       "<Figure size 432x288 with 2 Axes>"
      ]
     },
     "metadata": {
      "needs_background": "light"
     },
     "output_type": "display_data"
    }
   ],
   "source": [
    "%matplotlib inline\n",
    "import matplotlib.pyplot as plt\n",
    "\n",
    "fig, acc_ax = plt.subplots()\n",
    "\n",
    "loss_ax = acc_ax.twinx()\n",
    "\n",
    "loss_ax.plot(hist.history['loss'], 'y', label='train loss')\n",
    "loss_ax.plot(hist.history['val_loss'], 'r', label='val loss')\n",
    "\n",
    "acc_ax.plot(hist.history['categorical_accuracy'], 'b', label='train acc')\n",
    "acc_ax.plot(hist.history['val_categorical_accuracy'], 'g', label='val acc')\n",
    "\n",
    "loss_ax.set_xlabel('epoch')\n",
    "loss_ax.set_ylabel('loss')\n",
    "acc_ax.set_ylabel('accuray')\n",
    "\n",
    "loss_ax.legend(loc='upper left')\n",
    "acc_ax.legend(loc='lower left')\n",
    "\n",
    "plt.show()"
   ]
  },
  {
   "cell_type": "code",
   "execution_count": 10,
   "metadata": {},
   "outputs": [],
   "source": [
    "# Test set에 대한 예측 및 예측 정확도의 계산\n",
    "import re\n",
    "\n",
    "count = 0\n",
    "sum_dic = {}\n",
    "for data in train2_x:\n",
    "    result = predict(data[0])\n",
    "    if data[1] in sum_dic:\n",
    "        sum_dic[data[1]] = sum_tuple(sum_dic[data[1]],result)\n",
    "    else:\n",
    "        sum_dic[data[1]] = result\n",
    "    \n",
    "for date in sum_dic:\n",
    "    real = train2_y[date]\n",
    "    value = sum_dic[date].index(max(sum_dic[date]))\n",
    "    value -= 1\n",
    "    if real == value:\n",
    "        count = count + 1\n",
    "train_score = count / len(sum_dic)\n",
    "\n",
    "count = 0\n",
    "sum_dic = {}\n",
    "for data in test2_x:\n",
    "    result = predict(data[0])\n",
    "    if data[1] in sum_dic:\n",
    "        sum_dic[data[1]] = sum_tuple(sum_dic[data[1]],result)\n",
    "    else:\n",
    "        sum_dic[data[1]] = result\n",
    "    \n",
    "for date in sum_dic:\n",
    "    real = test2_y[date]\n",
    "    value = sum_dic[date].index(max(sum_dic[date]))\n",
    "    value -= 1\n",
    "    if real == value:\n",
    "        count = count + 1\n",
    "test_score = count / len(sum_dic)"
   ]
  },
  {
   "cell_type": "code",
   "execution_count": 11,
   "metadata": {},
   "outputs": [
    {
     "name": "stdout",
     "output_type": "stream",
     "text": [
      "단어 갯수 : 6000\n",
      "모델 레이어 및 노드 수 :  첫 번째 레이어 - relu, 3000 , 두 번째 레이어 - relu, 1000\n",
      "epochs :  60 , batch_size :  1000\n",
      "train 데이터 정확도 :  1.0\n",
      "test 데이터 정확도 :  0.7505882352941177\n"
     ]
    }
   ],
   "source": [
    "print('단어 갯수 : '+num_word)\n",
    "print('모델 레이어 및 노드 수 : ','첫 번째 레이어 - relu,',first_layer,', 두 번째 레이어 - relu,',second_layer)\n",
    "print('epochs : ',ep,', batch_size : ', ba)\n",
    "print('train 데이터 정확도 : ', train_score)\n",
    "print('test 데이터 정확도 : ', test_score)"
   ]
  }
 ],
 "metadata": {
  "kernelspec": {
   "display_name": "Python 3",
   "language": "python",
   "name": "python3"
  },
  "language_info": {
   "codemirror_mode": {
    "name": "ipython",
    "version": 3
   },
   "file_extension": ".py",
   "mimetype": "text/x-python",
   "name": "python",
   "nbconvert_exporter": "python",
   "pygments_lexer": "ipython3",
   "version": "3.8.2"
  }
 },
 "nbformat": 4,
 "nbformat_minor": 4
}
