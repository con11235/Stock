{
 "cells": [
  {
   "cell_type": "code",
   "execution_count": 1,
   "metadata": {},
   "outputs": [],
   "source": [
    "# 사용할 데이터의 형태\n",
    "data_type = '8'      # '1' : summarize X,개별 기사   '2' : summarize X,날짜별 기사\n",
    "                    # '3' : summarize O,개별 기사   '4' : summarize O,날짜별 기사\n",
    "normalized = 'done' # 'done' : 데이터 행별 normalize한 데이터     'not' : 데이터 행별 normalize 안한 데이터\n",
    "erased_word = 'C'    # 제거된 단어 형태\n",
    "num_word = '6000'   # 사용할 단어 수\n",
    "\n",
    "# 돌려볼 모델의 구조\n",
    "first_layer = 3000   # 모델의 첫 번째 레이어 수\n",
    "second_layer = 1000  # 모델의 두 번째 레이어 수\n",
    "ep = 60             # 모델의 에포크 수\n",
    "ba = 1000            # 모델의 배치 사이즈"
   ]
  },
  {
   "cell_type": "code",
   "execution_count": 2,
   "metadata": {},
   "outputs": [],
   "source": [
    "# 생성된 training, test의 x,y값을 pickle의 형태로 저장\n",
    "import pickle\n",
    "import os\n",
    "path = os.getcwd()+'/pickles/'\n",
    "if erased_word != '':\n",
    "    erased_word = '_'+erased_word\n",
    "with open(path+data_type+'train_x_'+str(num_word)+'_'+normalized+erased_word+'.pickle', 'rb') as f:\n",
    "    train_x = pickle.load(f)\n",
    "with open(path+data_type+'train_y_'+str(num_word)+'_'+normalized+erased_word+'.pickle', 'rb') as f:\n",
    "    train_y = pickle.load(f)\n",
    "with open(path+data_type+'train2_x_'+str(num_word)+'_'+normalized+erased_word+'.pickle', 'rb') as f:\n",
    "    train2_x = pickle.load(f)\n",
    "with open(path+data_type+'train2_y_'+str(num_word)+'_'+normalized+erased_word+'.pickle', 'rb') as f:\n",
    "    train2_y = pickle.load(f)\n",
    "with open(path+data_type+'test_x_'+str(num_word)+'_'+normalized+erased_word+'.pickle', 'rb') as f:\n",
    "    test_x = pickle.load(f)\n",
    "with open(path+data_type+'test_y_'+str(num_word)+'_'+normalized+erased_word+'.pickle', 'rb') as f:\n",
    "    test_y = pickle.load(f)\n",
    "with open(path+data_type+'test2_x_'+str(num_word)+'_'+normalized+erased_word+'.pickle', 'rb') as f:\n",
    "    test2_x = pickle.load(f)\n",
    "with open(path+data_type+'test2_y_'+str(num_word)+'_'+normalized+erased_word+'.pickle', 'rb') as f:\n",
    "    test2_y = pickle.load(f)"
   ]
  },
  {
   "cell_type": "code",
   "execution_count": 3,
   "metadata": {},
   "outputs": [],
   "source": [
    "# numpy 사용하여 float로 바꾸어주는 과정\n",
    "import numpy as np\n",
    "x_train = np.asarray(train_x).astype('float32')\n",
    "y_train = np.asarray(train_y).astype('float32')\n",
    "x_test = np.asarray(test_x).astype('float32')\n",
    "y_test = np.asarray(test_y).astype('float32')"
   ]
  },
  {
   "cell_type": "code",
   "execution_count": 4,
   "metadata": {
    "scrolled": true
   },
   "outputs": [
    {
     "name": "stdout",
     "output_type": "stream",
     "text": [
      "Epoch 1/60\n",
      "10/10 [==============================] - 78s 8s/step - loss: 1.0916 - categorical_accuracy: 0.3745 - val_loss: 1.0864 - val_categorical_accuracy: 0.3968\n",
      "Epoch 2/60\n",
      "10/10 [==============================] - 7s 697ms/step - loss: 1.0788 - categorical_accuracy: 0.4094 - val_loss: 1.0878 - val_categorical_accuracy: 0.3816\n",
      "Epoch 3/60\n",
      "10/10 [==============================] - 7s 697ms/step - loss: 1.0578 - categorical_accuracy: 0.4335 - val_loss: 1.0728 - val_categorical_accuracy: 0.4030\n",
      "Epoch 4/60\n",
      "10/10 [==============================] - 6s 636ms/step - loss: 1.0345 - categorical_accuracy: 0.4406 - val_loss: 1.0768 - val_categorical_accuracy: 0.3985\n",
      "Epoch 5/60\n",
      "10/10 [==============================] - 7s 672ms/step - loss: 1.0060 - categorical_accuracy: 0.4873 - val_loss: 1.0454 - val_categorical_accuracy: 0.4530\n",
      "Epoch 6/60\n",
      "10/10 [==============================] - 6s 645ms/step - loss: 0.9782 - categorical_accuracy: 0.5212 - val_loss: 1.0738 - val_categorical_accuracy: 0.4321\n",
      "Epoch 7/60\n",
      "10/10 [==============================] - 9s 911ms/step - loss: 0.9558 - categorical_accuracy: 0.5090 - val_loss: 1.0418 - val_categorical_accuracy: 0.4571\n",
      "Epoch 8/60\n",
      "10/10 [==============================] - 8s 818ms/step - loss: 0.9178 - categorical_accuracy: 0.5651 - val_loss: 1.0648 - val_categorical_accuracy: 0.4488\n",
      "Epoch 9/60\n",
      "10/10 [==============================] - 11s 1s/step - loss: 0.8757 - categorical_accuracy: 0.5856 - val_loss: 1.0589 - val_categorical_accuracy: 0.4394\n",
      "Epoch 10/60\n",
      "10/10 [==============================] - 11s 1s/step - loss: 0.8727 - categorical_accuracy: 0.6078 - val_loss: 1.1000 - val_categorical_accuracy: 0.4518\n",
      "Epoch 11/60\n",
      "10/10 [==============================] - 11s 1s/step - loss: 0.8258 - categorical_accuracy: 0.6237 - val_loss: 1.1099 - val_categorical_accuracy: 0.4350\n",
      "Epoch 12/60\n",
      "10/10 [==============================] - 14s 1s/step - loss: 0.7932 - categorical_accuracy: 0.6452 - val_loss: 1.2066 - val_categorical_accuracy: 0.4507\n",
      "Epoch 13/60\n",
      "10/10 [==============================] - 14s 1s/step - loss: 0.8204 - categorical_accuracy: 0.6276 - val_loss: 1.0818 - val_categorical_accuracy: 0.4643\n",
      "Epoch 14/60\n",
      "10/10 [==============================] - 11s 1s/step - loss: 0.6945 - categorical_accuracy: 0.7140 - val_loss: 1.2048 - val_categorical_accuracy: 0.4710\n",
      "Epoch 15/60\n",
      "10/10 [==============================] - 11s 1s/step - loss: 0.7366 - categorical_accuracy: 0.6778 - val_loss: 1.3635 - val_categorical_accuracy: 0.4230\n",
      "Epoch 16/60\n",
      "10/10 [==============================] - 12s 1s/step - loss: 0.6800 - categorical_accuracy: 0.7141 - val_loss: 1.2792 - val_categorical_accuracy: 0.4175\n",
      "Epoch 17/60\n",
      "10/10 [==============================] - 11s 1s/step - loss: 0.6771 - categorical_accuracy: 0.7083 - val_loss: 1.1697 - val_categorical_accuracy: 0.4353\n",
      "Epoch 18/60\n",
      "10/10 [==============================] - 11s 1s/step - loss: 0.6415 - categorical_accuracy: 0.7316 - val_loss: 1.2025 - val_categorical_accuracy: 0.4907\n",
      "Epoch 19/60\n",
      "10/10 [==============================] - 11s 1s/step - loss: 0.6257 - categorical_accuracy: 0.7419 - val_loss: 1.1431 - val_categorical_accuracy: 0.5052\n",
      "Epoch 20/60\n",
      "10/10 [==============================] - 11s 1s/step - loss: 0.6463 - categorical_accuracy: 0.7422 - val_loss: 1.1381 - val_categorical_accuracy: 0.5059\n",
      "Epoch 21/60\n",
      "10/10 [==============================] - 11s 1s/step - loss: 0.5124 - categorical_accuracy: 0.8133 - val_loss: 1.2981 - val_categorical_accuracy: 0.4234\n",
      "Epoch 22/60\n",
      "10/10 [==============================] - 10s 1s/step - loss: 0.4915 - categorical_accuracy: 0.8105 - val_loss: 1.2438 - val_categorical_accuracy: 0.4921\n",
      "Epoch 23/60\n",
      "10/10 [==============================] - 11s 1s/step - loss: 0.5588 - categorical_accuracy: 0.7736 - val_loss: 1.2413 - val_categorical_accuracy: 0.5047\n",
      "Epoch 24/60\n",
      "10/10 [==============================] - 10s 1s/step - loss: 0.4528 - categorical_accuracy: 0.8233 - val_loss: 1.5769 - val_categorical_accuracy: 0.4818\n",
      "Epoch 25/60\n",
      "10/10 [==============================] - 11s 1s/step - loss: 0.4503 - categorical_accuracy: 0.8185 - val_loss: 1.5468 - val_categorical_accuracy: 0.4885\n",
      "Epoch 26/60\n",
      "10/10 [==============================] - 13s 1s/step - loss: 0.4512 - categorical_accuracy: 0.8224 - val_loss: 1.2674 - val_categorical_accuracy: 0.4572\n",
      "Epoch 27/60\n",
      "10/10 [==============================] - 15s 1s/step - loss: 0.4003 - categorical_accuracy: 0.8545 - val_loss: 1.4531 - val_categorical_accuracy: 0.5064\n",
      "Epoch 28/60\n",
      "10/10 [==============================] - 15s 1s/step - loss: 0.3468 - categorical_accuracy: 0.8717 - val_loss: 1.4046 - val_categorical_accuracy: 0.4547\n",
      "Epoch 29/60\n",
      "10/10 [==============================] - 15s 2s/step - loss: 0.3020 - categorical_accuracy: 0.8947 - val_loss: 1.5303 - val_categorical_accuracy: 0.5035\n",
      "Epoch 30/60\n",
      "10/10 [==============================] - 15s 1s/step - loss: 0.4834 - categorical_accuracy: 0.8230 - val_loss: 1.3983 - val_categorical_accuracy: 0.5162\n",
      "Epoch 31/60\n",
      "10/10 [==============================] - 16s 2s/step - loss: 0.2574 - categorical_accuracy: 0.9173 - val_loss: 1.7642 - val_categorical_accuracy: 0.4301\n",
      "Epoch 32/60\n",
      "10/10 [==============================] - 15s 2s/step - loss: 0.2834 - categorical_accuracy: 0.9098 - val_loss: 1.8326 - val_categorical_accuracy: 0.4949\n",
      "Epoch 33/60\n",
      "10/10 [==============================] - 15s 1s/step - loss: 0.2280 - categorical_accuracy: 0.9212 - val_loss: 1.7095 - val_categorical_accuracy: 0.5120\n",
      "Epoch 34/60\n",
      "10/10 [==============================] - 16s 2s/step - loss: 0.3771 - categorical_accuracy: 0.8571 - val_loss: 1.4743 - val_categorical_accuracy: 0.5076\n",
      "Epoch 35/60\n",
      "10/10 [==============================] - 15s 2s/step - loss: 0.1340 - categorical_accuracy: 0.9645 - val_loss: 1.8299 - val_categorical_accuracy: 0.4971\n",
      "Epoch 36/60\n",
      "10/10 [==============================] - 15s 2s/step - loss: 0.6232 - categorical_accuracy: 0.8178 - val_loss: 1.4617 - val_categorical_accuracy: 0.5189\n",
      "Epoch 37/60\n",
      "10/10 [==============================] - 15s 2s/step - loss: 0.1179 - categorical_accuracy: 0.9710 - val_loss: 1.6560 - val_categorical_accuracy: 0.5168\n",
      "Epoch 38/60\n",
      "10/10 [==============================] - 15s 2s/step - loss: 0.2408 - categorical_accuracy: 0.9175 - val_loss: 1.5601 - val_categorical_accuracy: 0.5076\n",
      "Epoch 39/60\n",
      "10/10 [==============================] - 15s 2s/step - loss: 0.2333 - categorical_accuracy: 0.9193 - val_loss: 2.5543 - val_categorical_accuracy: 0.4070\n",
      "Epoch 40/60\n",
      "10/10 [==============================] - 15s 2s/step - loss: 0.3175 - categorical_accuracy: 0.8921 - val_loss: 1.5836 - val_categorical_accuracy: 0.5205\n",
      "Epoch 41/60\n",
      "10/10 [==============================] - 15s 2s/step - loss: 0.1053 - categorical_accuracy: 0.9701 - val_loss: 1.9161 - val_categorical_accuracy: 0.5175\n",
      "Epoch 42/60\n",
      "10/10 [==============================] - 16s 2s/step - loss: 0.1508 - categorical_accuracy: 0.9439 - val_loss: 3.9200 - val_categorical_accuracy: 0.4151\n",
      "Epoch 43/60\n",
      "10/10 [==============================] - 16s 2s/step - loss: 0.4162 - categorical_accuracy: 0.8823 - val_loss: 1.6582 - val_categorical_accuracy: 0.5217\n",
      "Epoch 44/60\n",
      "10/10 [==============================] - 15s 2s/step - loss: 0.0780 - categorical_accuracy: 0.9785 - val_loss: 1.8152 - val_categorical_accuracy: 0.5089\n",
      "Epoch 45/60\n",
      "10/10 [==============================] - 16s 2s/step - loss: 0.2877 - categorical_accuracy: 0.8918 - val_loss: 1.6371 - val_categorical_accuracy: 0.5120\n",
      "Epoch 46/60\n",
      "10/10 [==============================] - 15s 2s/step - loss: 0.0867 - categorical_accuracy: 0.9773 - val_loss: 1.8228 - val_categorical_accuracy: 0.5204\n",
      "Epoch 47/60\n",
      "10/10 [==============================] - 16s 2s/step - loss: 0.2972 - categorical_accuracy: 0.8798 - val_loss: 1.5715 - val_categorical_accuracy: 0.5244\n",
      "Epoch 48/60\n",
      "10/10 [==============================] - 17s 2s/step - loss: 0.0701 - categorical_accuracy: 0.9818 - val_loss: 1.8664 - val_categorical_accuracy: 0.5200\n",
      "Epoch 49/60\n",
      "10/10 [==============================] - 16s 2s/step - loss: 0.0615 - categorical_accuracy: 0.9802 - val_loss: 2.0811 - val_categorical_accuracy: 0.5086\n",
      "Epoch 50/60\n"
     ]
    },
    {
     "name": "stdout",
     "output_type": "stream",
     "text": [
      "10/10 [==============================] - 15s 2s/step - loss: 0.4673 - categorical_accuracy: 0.8359 - val_loss: 1.6214 - val_categorical_accuracy: 0.5226\n",
      "Epoch 51/60\n",
      "10/10 [==============================] - 15s 2s/step - loss: 0.0653 - categorical_accuracy: 0.9824 - val_loss: 1.8603 - val_categorical_accuracy: 0.5194\n",
      "Epoch 52/60\n",
      "10/10 [==============================] - 15s 2s/step - loss: 0.0680 - categorical_accuracy: 0.9776 - val_loss: 2.4483 - val_categorical_accuracy: 0.4370\n",
      "Epoch 53/60\n",
      "10/10 [==============================] - 15s 2s/step - loss: 0.4177 - categorical_accuracy: 0.8748 - val_loss: 1.7120 - val_categorical_accuracy: 0.5207\n",
      "Epoch 54/60\n",
      "10/10 [==============================] - 15s 2s/step - loss: 0.0536 - categorical_accuracy: 0.9842 - val_loss: 1.9461 - val_categorical_accuracy: 0.5189\n",
      "Epoch 55/60\n",
      "10/10 [==============================] - 16s 2s/step - loss: 0.0454 - categorical_accuracy: 0.9846 - val_loss: 2.1080 - val_categorical_accuracy: 0.5143\n",
      "Epoch 56/60\n",
      "10/10 [==============================] - 15s 2s/step - loss: 0.7344 - categorical_accuracy: 0.8131 - val_loss: 1.7242 - val_categorical_accuracy: 0.5172\n",
      "Epoch 57/60\n",
      "10/10 [==============================] - 15s 2s/step - loss: 0.0620 - categorical_accuracy: 0.9849 - val_loss: 1.8606 - val_categorical_accuracy: 0.5214\n",
      "Epoch 58/60\n",
      "10/10 [==============================] - 16s 2s/step - loss: 0.0473 - categorical_accuracy: 0.9851 - val_loss: 2.0480 - val_categorical_accuracy: 0.5202\n",
      "Epoch 59/60\n",
      "10/10 [==============================] - 16s 2s/step - loss: 0.0486 - categorical_accuracy: 0.9817 - val_loss: 2.1804 - val_categorical_accuracy: 0.5204\n",
      "Epoch 60/60\n",
      "10/10 [==============================] - 15s 2s/step - loss: 0.0404 - categorical_accuracy: 0.9847 - val_loss: 2.3216 - val_categorical_accuracy: 0.5168\n"
     ]
    }
   ],
   "source": [
    "# DNN 학습 모델\n",
    "from tensorflow.keras import models\n",
    "from tensorflow.keras import layers\n",
    "from tensorflow.keras import optimizers\n",
    "from tensorflow.keras import losses\n",
    "from tensorflow.keras import metrics\n",
    "#from tensorflow.keras.callbacks import EarlyStopping\n",
    "\n",
    "\n",
    "#callbacks = [EarlyStopping(monitor='val_loss',patience = 20)]\n",
    "model = models.Sequential()\n",
    "n =len(x_train[0])\n",
    "model.add(layers.Dense(first_layer,activation='relu'))#실제 쓸 단어갯수\n",
    "model.add(layers.Dense(second_layer,activation='relu'))\n",
    "model.add(layers.Dense(3,activation='softmax'))\n",
    "model.compile(optimizer=optimizers.RMSprop(lr=0.001),loss = losses.categorical_crossentropy,metrics=[metrics.categorical_accuracy])\n",
    "\n",
    "#hist = model.fit(x_train,y_train,epochs=ep,validation_data=(x_train2,y_train2),callbacks=callbacks,batch_size=ba, shuffle=True)\n",
    "hist = model.fit(x_train,y_train,epochs=ep,validation_data=(x_test,y_test),batch_size=ba)\n"
   ]
  },
  {
   "cell_type": "code",
   "execution_count": 5,
   "metadata": {},
   "outputs": [],
   "source": [
    "# 모델의 예측값을 튜플로 반환하는 함수\n",
    "def predict(x):\n",
    "    data = np.expand_dims(np.asarray(x).astype('float32'),axis=0)\n",
    "    result = model.predict(data)\n",
    "    return tuple(result[0])"
   ]
  },
  {
   "cell_type": "code",
   "execution_count": 6,
   "metadata": {},
   "outputs": [],
   "source": [
    "# 모든 날짜의 예측값들을 합치기 위한 튜플의 합 함수\n",
    "def sum_tuple(a,b):\n",
    "    return (a[0]+b[0],a[1]+b[1],a[2]+b[2])"
   ]
  },
  {
   "cell_type": "code",
   "execution_count": 7,
   "metadata": {},
   "outputs": [
    {
     "data": {
      "image/png": "[encoded data removed]",
      "text/plain": [
       "<Figure size 432x288 with 2 Axes>"
      ]
     },
     "metadata": {
      "needs_background": "light"
     },
     "output_type": "display_data"
    }
   ],
   "source": [
    "%matplotlib inline\n",
    "import matplotlib.pyplot as plt\n",
    "\n",
    "fig, acc_ax = plt.subplots()\n",
    "\n",
    "loss_ax = acc_ax.twinx()\n",
    "\n",
    "loss_ax.plot(hist.history['loss'], 'y', label='train loss')\n",
    "loss_ax.plot(hist.history['val_loss'], 'r', label='val loss')\n",
    "\n",
    "acc_ax.plot(hist.history['categorical_accuracy'], 'b', label='train acc')\n",
    "acc_ax.plot(hist.history['val_categorical_accuracy'], 'g', label='val acc')\n",
    "\n",
    "loss_ax.set_xlabel('epoch')\n",
    "loss_ax.set_ylabel('loss')\n",
    "acc_ax.set_ylabel('accuray')\n",
    "\n",
    "loss_ax.legend(loc='upper left')\n",
    "acc_ax.legend(loc='lower left')\n",
    "\n",
    "plt.show()"
   ]
  },
  {
   "cell_type": "code",
   "execution_count": 8,
   "metadata": {},
   "outputs": [],
   "source": [
    "# Test set에 대한 예측 및 예측 정확도의 계산\n",
    "import re\n",
    "\n",
    "count = 0\n",
    "sum_dic = {}\n",
    "for data in train2_x:\n",
    "    result = predict(data[0])\n",
    "    if data[1] in sum_dic:\n",
    "        sum_dic[data[1]] = sum_tuple(sum_dic[data[1]],result)\n",
    "    else:\n",
    "        sum_dic[data[1]] = result\n",
    "    \n",
    "for date in sum_dic:\n",
    "    real = train2_y[date]\n",
    "    value = sum_dic[date].index(max(sum_dic[date]))\n",
    "    value -= 1\n",
    "    if real == value:\n",
    "        count = count + 1\n",
    "train_score = count / len(sum_dic)\n",
    "\n",
    "count = 0\n",
    "sum_dic = {}\n",
    "for data in test2_x:\n",
    "    result = predict(data[0])\n",
    "    if data[1] in sum_dic:\n",
    "        sum_dic[data[1]] = sum_tuple(sum_dic[data[1]],result)\n",
    "    else:\n",
    "        sum_dic[data[1]] = result\n",
    "    \n",
    "for date in sum_dic:\n",
    "    real = test2_y[date]\n",
    "    value = sum_dic[date].index(max(sum_dic[date]))\n",
    "    value -= 1\n",
    "    if real == value:\n",
    "        count = count + 1\n",
    "test_score = count / len(sum_dic)"
   ]
  },
  {
   "cell_type": "code",
   "execution_count": 9,
   "metadata": {},
   "outputs": [
    {
     "name": "stdout",
     "output_type": "stream",
     "text": [
      "단어 갯수 : 6000\n",
      "모델 레이어 및 노드 수 :  첫 번째 레이어 - relu, 3000 , 두 번째 레이어 - relu, 1000\n",
      "epochs :  60 , batch_size :  1000\n",
      "train 데이터 정확도 :  1.0\n",
      "test 데이터 정확도 :  0.7529411764705882\n"
     ]
    }
   ],
   "source": [
    "print('단어 갯수 : '+num_word)\n",
    "print('모델 레이어 및 노드 수 : ','첫 번째 레이어 - relu,',first_layer,', 두 번째 레이어 - relu,',second_layer)\n",
    "print('epochs : ',ep,', batch_size : ', ba)\n",
    "print('train 데이터 정확도 : ', train_score)\n",
    "print('test 데이터 정확도 : ', test_score)"
   ]
  }
 ],
 "metadata": {
  "kernelspec": {
   "display_name": "Python 3",
   "language": "python",
   "name": "python3"
  },
  "language_info": {
   "codemirror_mode": {
    "name": "ipython",
    "version": 3
   },
   "file_extension": ".py",
   "mimetype": "text/x-python",
   "name": "python",
   "nbconvert_exporter": "python",
   "pygments_lexer": "ipython3",
   "version": "3.8.2"
  }
 },
 "nbformat": 4,
 "nbformat_minor": 4
}
