{
 "cells": [
  {
   "cell_type": "markdown",
   "metadata": {},
   "source": [
    "# 매일경제의 삼성전자 관련 기사 크롤링\n",
    "http에러때문에 한번에 40페이지정도 크롤링 해오는 것을 추천   \n",
    "1페이지는 모종의 문제로 2페이지부터 크롤링 시작(1페이지는 따로)"
   ]
  },
  {
   "cell_type": "code",
   "execution_count": 26,
   "metadata": {},
   "outputs": [],
   "source": [
    "all_article = [] #수집되는 전체 기사가 들어가는 리스트 [['제목','날짜','내용','url'],['제목','날짜','내용','url']...]로 나타내어짐"
   ]
  },
  {
   "cell_type": "code",
   "execution_count": 18,
   "metadata": {},
   "outputs": [
    {
     "name": "stdout",
     "output_type": "stream",
     "text": [
      "1\n",
      "1\n",
      "1\n",
      "http://find.mk.co.kr/new/search.php?pageNum=1&cat=&cat1=&media_eco=&pageSize=20&sub=news&dispFlag=OFF&page=news&s_kwd=%BB%EF%BC%BA%C0%FC%C0%DA&s_page=news&go_page=&ord=1&ord1=1&ord2=0&s_keyword=%BB%EF%BC%BA%C0%FC%C0%DA&period=p_direct&s_i_keyword=%BB%EF%BC%BA%C0%FC%C0%DA&s_author=&y1=2020&m1=06&d1=22&y2=2020&m2=06&d2=25&media%5B1%5D=00001&ord=1&area=ttbd\n",
      "check\n",
      "[<span class=\"art_tit\"><a href=\"https://www.mk.co.kr/news/economy/view/2020/06/653589/\" target=\"_blank\"><b>삼성전자</b>가 블록체인 스마트폰을 또 내놓는다고?</a></span>, <span class=\"art_tit\"><a href=\"https://www.mk.co.kr/news/stock/view/2020/06/653548/\" target=\"_blank\">2분기 상장사 실적 뜻밖의 선전?…환율·비용절감 효과 `톡톡`</a></span>, <span class=\"art_tit\"><a href=\"https://www.mk.co.kr/news/business/view/2020/06/653531/\" target=\"_blank\">이재용의 `K칩 동행`…협력사 손잡고 `반도체 초격차` 나선다</a></span>, <span class=\"art_tit\"><a href=\"https://www.mk.co.kr/news/business/view/2020/06/653530/\" target=\"_blank\">日수출규제 1년…국산화 일부 성과냈지만 소부장 갈길 멀어</a></span>, <span class=\"art_tit\"><a href=\"https://www.mk.co.kr/news/society/view/2020/06/653528/\" target=\"_blank\">검찰, 26일 李부회장 수사심의위</a></span>, <span class=\"art_tit\"><a href=\"https://www.mk.co.kr/news/economy/view/2020/06/653525/\" target=\"_blank\">큰손들 양도세 피하려면…달러·금 `분산투자` 고려할만</a></span>, <span class=\"art_tit\"><a href=\"https://www.mk.co.kr/news/economy/view/2020/06/653470/\" target=\"_blank\">서울대 `반도체전공` 문과생도 몰리는데…꽁꽁 묶인 학과 정원</a></span>, <span class=\"art_tit\"><a href=\"https://www.mk.co.kr/news/business/view/2020/06/653458/\" target=\"_blank\">[포토] <b>삼성</b>·LG, 에너지효율 1등급 건조기 같은 날 출시</a></span>, <span class=\"art_tit\"><a href=\"https://www.mk.co.kr/news/stock/view/2020/06/652860/\" target=\"_blank\">코로나19에 다시 발목잡힌 코스피, 2110선 털썩…2% 급락</a></span>, <span class=\"art_tit\"><a href=\"https://www.mk.co.kr/news/home/view/2020/06/651955/\" target=\"_blank\">자동차·가전·명품 싸게 판다…26일부터 `대한민국 동행세일`</a></span>, <span class=\"art_tit\"><a href=\"https://www.mk.co.kr/news/business/view/2020/06/650964/\" target=\"_blank\"><b>삼성</b> `K칩 시대` 반도체 생태계 확장…\"협력사·산학·친환경 상생협력\"</a></span>, <span class=\"art_tit\"><a href=\"https://www.mk.co.kr/news/business/view/2020/06/650860/\" target=\"_blank\"><b>삼성</b> 건조기, 국내 유일 전 용량 에너지 소비효율 1등급</a></span>, <span class=\"art_tit\"><a href=\"https://www.mk.co.kr/news/stock/view/2020/06/650768/\" target=\"_blank\">코아시아, 英 Arm 최고 등급 공식 디자인 파트너 선정</a></span>, <span class=\"art_tit\"><a href=\"https://www.mk.co.kr/news/stock/view/2020/06/650028/\" target=\"_blank\">코스피, 코로나19 재확산 우려에 하락…2130선 밀려</a></span>, <span class=\"art_tit\"><a href=\"https://www.mk.co.kr/news/business/view/2020/06/649484/\" target=\"_blank\">[Science in Biz] 같은 `구리`라도…순도 99%와 99.99%는 천양지차</a></span>, <span class=\"art_tit\"><a href=\"https://www.mk.co.kr/news/society/view/2020/06/649105/\" target=\"_blank\">아모레·보광 사돈 맺는다…서민정·홍정환 27일 약혼식</a></span>, <span class=\"art_tit\"><a href=\"https://www.mk.co.kr/news/business/view/2020/06/648956/\" target=\"_blank\">아모레퍼시픽-보광그룹 사돈 맺는다…서경배 회장 장녀 민정 씨-홍석준 회장 장남 정환 씨 27일 신라호텔서 약혼</a></span>, <span class=\"art_tit\"><a href=\"https://www.mk.co.kr/news/business/view/2020/06/648836/\" target=\"_blank\">이재용 인재 모시기…R&amp;D; 수장에 AI석학</a></span>, <span class=\"art_tit\"><a href=\"https://www.mk.co.kr/news/stock/view/2020/06/648789/\" target=\"_blank\">외국인, <b>삼성</b>그룹 4총사에 꽂혔다</a></span>, <span class=\"art_tit\"><a href=\"https://www.mk.co.kr/news/home/view/2020/06/648682/\" target=\"_blank\">8g 무게 패치 가슴에 부착…AI로 심혈관 질환 잡는다</a></span>]\n",
      "https://www.mk.co.kr/news/economy/view/2020/06/653589/\n",
      "https://www.mk.co.kr/news/stock/view/2020/06/653548/\n",
      "https://www.mk.co.kr/news/business/view/2020/06/653531/\n",
      "https://www.mk.co.kr/news/business/view/2020/06/653530/\n",
      "https://www.mk.co.kr/news/society/view/2020/06/653528/\n",
      "https://www.mk.co.kr/news/economy/view/2020/06/653525/\n",
      "https://www.mk.co.kr/news/economy/view/2020/06/653470/\n",
      "https://www.mk.co.kr/news/business/view/2020/06/653458/\n",
      "https://www.mk.co.kr/news/stock/view/2020/06/652860/\n",
      "https://www.mk.co.kr/news/home/view/2020/06/651955/\n",
      "https://www.mk.co.kr/news/business/view/2020/06/650964/\n",
      "https://www.mk.co.kr/news/business/view/2020/06/650860/\n",
      "https://www.mk.co.kr/news/stock/view/2020/06/650768/\n",
      "https://www.mk.co.kr/news/stock/view/2020/06/650028/\n",
      "https://www.mk.co.kr/news/business/view/2020/06/649484/\n",
      "https://www.mk.co.kr/news/business/view/2020/06/648836/\n",
      "https://www.mk.co.kr/news/stock/view/2020/06/648789/\n",
      "https://www.mk.co.kr/news/home/view/2020/06/648682/\n"
     ]
    }
   ],
   "source": [
    "from urllib.request import urlopen\n",
    "import bs4\n",
    "from urllib.parse import quote\n",
    "import csv\n",
    "start_num = int(input())\n",
    "page_num = int(input())\n",
    "\n",
    "for i in range(start_num,page_num+1): #1페이지에 문제가 있어 2페이지부터 시작해야함 ,40페이지씩 끊는것을 추천\n",
    "    print(i)\n",
    "    #매경 검색창에 기간과 기업명을 설정하고 검색한 결과의 페이지\n",
    "    url = \"http://find.mk.co.kr/new/search.php?pageNum=\"+str(i)+\"&cat=&cat1=&media_eco=&pageSize=20&sub=news&dispFlag=OFF&page=news&s_kwd=%BB%EF%BC%BA%C0%FC%C0%DA&s_page=news&go_page=&ord=1&ord1=1&ord2=0&s_keyword=%BB%EF%BC%BA%C0%FC%C0%DA&period=p_direct&s_i_keyword=%BB%EF%BC%BA%C0%FC%C0%DA&s_author=&y1=2020&m1=06&d1=22&y2=2020&m2=06&d2=25&media%5B1%5D=00001&ord=1&area=ttbd\"\n",
    "    print(url)\n",
    "    while True:\n",
    "        #검색결과가 나왔다 안나왔다 할때가 있어서 검색결과가 나온페이지의 태그가 뜰때까지 예외처리로 반복\n",
    "        try:\n",
    "            html = urlopen(url)\n",
    "            bs = bs4.BeautifulSoup(html.read(),\"html.parser\")\n",
    "            td = bs.find(\"td\",{\"class\":\"title\"})\n",
    "            a = td.text\n",
    "            \n",
    "        except AttributeError:\n",
    "            print(\"check\")\n",
    "            span = bs.findAll(\"span\",{\"class\":\"art_tit\"})\n",
    "            print(span)\n",
    "            for i in span:\n",
    "                a = i.find(\"a\")\n",
    "                link = a[\"href\"]\n",
    "                html = urlopen(link)\n",
    "                bs = bs4.BeautifulSoup(html.read(),\"html.parser\")\n",
    "                date = bs.find(\"li\",{\"class\":\"lasttime\"})\n",
    "                if int(date.text[16:18]) >17: # 18시 이후 등록 기사 제거\n",
    "                    continue\n",
    "                empty =[]\n",
    "                try:\n",
    "                    h1 = bs.find(\"h1\",{\"class\":\"top_title\"})\n",
    "                    empty.append(h1.text)#제목\n",
    "                except AttributeError:\n",
    "                    print(\"오류기사\")\n",
    "                    pass\n",
    "            \n",
    "                try:\n",
    "                    li = bs.find(\"li\",{\"class\":\"lasttime\"})\n",
    "                    empty.append(li.text[5:15]) #날짜  \n",
    "\n",
    "                except AttributeError:\n",
    "                    try:\n",
    "                        li = bs.find(\"li\",{\"class\":\"lasttime1\"})\n",
    "                        empty.append(li.text[5:15]) #날짜\n",
    "                    except:\n",
    "                        empty.append(\"오류기사\")\n",
    "                \n",
    "                try:\n",
    "                    div = bs.find(\"div\",{\"class\":\"art_txt\"})\n",
    "                    article = div.get_text().replace('\\r',\"\").replace('\\n','').replace('\\t','')\n",
    "                    empty.append(article) #기사\n",
    "                except AttributeError:\n",
    "                    empty.append(\"오류기사 전문\")\n",
    "                    print(\"오류기사\")\n",
    "                empty.append(link) #링크\n",
    "                all_article.append(empty)\n",
    "                if empty[1][0] != '2'or '[표]' in empty[0] or (empty[0] or empty[1]) ==\"오류기사\":\n",
    "                    all_article.pop()\n",
    "                \n",
    "                print(link)\n",
    "            break\n",
    "    \n",
    "\n"
   ]
  },
  {
   "cell_type": "code",
   "execution_count": 19,
   "metadata": {},
   "outputs": [],
   "source": [
    "f = open('articles.csv','w',encoding='utf-8-sig')\n",
    "wr = csv.writer(f)\n",
    "for i in all_article:\n",
    "    url = i[3]\n",
    "    if 'society' in i[3] or 'special' in i[3] or 'home' in i[3] or 'realestate' in i[3] or 'politics' in i[3]: #관계가 없어보이는 \n",
    "        continue\n",
    "    else:\n",
    "        if '삼성전자' in i[0] or '삼성전자' in i[2]:\n",
    "            if i[0] == i[2][5:len(i[0])+5]: #본문에 제목이 포함돼있는경우 그부분 제거\n",
    "                i[2] = i[2][5+len(i[0]):]\n",
    "            wr.writerow(i)\n",
    "\n",
    "f.close()"
   ]
  }
 ],
 "metadata": {
  "kernelspec": {
   "display_name": "Python 3",
   "language": "python",
   "name": "python3"
  },
  "language_info": {
   "codemirror_mode": {
    "name": "ipython",
    "version": 3
   },
   "file_extension": ".py",
   "mimetype": "text/x-python",
   "name": "python",
   "nbconvert_exporter": "python",
   "pygments_lexer": "ipython3",
   "version": "3.7.6"
  }
 },
 "nbformat": 4,
 "nbformat_minor": 2
}
