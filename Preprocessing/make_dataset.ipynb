{
 "cells": [
  {
   "cell_type": "code",
   "execution_count": 7,
   "metadata": {},
   "outputs": [],
   "source": [
    "training_article = 'money_190101200531.csv'\n",
    "test_article = 'all_200601200625.csv' # 사용할 본문 데이터 파일 이름\n",
    "#labeling_point = 0.006 # 라벨링 기준값"
   ]
  },
  {
   "cell_type": "code",
   "execution_count": 2,
   "metadata": {},
   "outputs": [],
   "source": [
    "import re\n",
    "def modify(text):\n",
    "    if '[ⓒ' in text:\n",
    "        index = text.find('[ⓒ')\n",
    "        text = text[:index]\n",
    "    while 'googletag.display' in text:\n",
    "        index = text.find('googletag.display')        \n",
    "        index2 = text.find(';',index)\n",
    "        text = text[:index]+' '+text[index2+1:]\n",
    "    pattern = '([a-zA-Z0-9_.+-]+@[a-zA-Z0-9-]+\\.[a-zA-Z0-9-.]+)' #이메일 주소 제거\n",
    "    text = re.sub(pattern=pattern, repl=' ',string=text)\n",
    "    pattern = '([ㄱ-ㅎㅏ-ㅣ]+)' #한글 자모음 제거\n",
    "    text = re.sub(pattern=pattern, repl=' ', string=text)\n",
    "    pattern = '[^\\w\\s]' #특수기호 제거\n",
    "    text = re.sub(pattern=pattern, repl=' ', string=text)\n",
    "    return text"
   ]
  },
  {
   "cell_type": "code",
   "execution_count": 3,
   "metadata": {},
   "outputs": [],
   "source": [
    "#주가 데이터의 라벨링 과정\n",
    "import csv\n",
    "f = open('stock.csv','r', encoding='utf-8-sig')\n",
    "rdf = csv.reader(f)\n",
    "label ={}\n",
    "for line in rdf:\n",
    "    date = line[0][:4]+line[0][5:7]+line[0][8:10]\n",
    "    number = float(line[6])\n",
    "    if number > 0.0077:\n",
    "        number = 1\n",
    "    elif number < -0.005:\n",
    "        number = -1\n",
    "    else:\n",
    "        number = 0\n",
    "    label[date] = number\n",
    "f.close()"
   ]
  },
  {
   "cell_type": "code",
   "execution_count": null,
   "metadata": {},
   "outputs": [],
   "source": [
    "# 1. 해당 날짜의 전체 본문을 합쳐서 라벨링하는 코드\n",
    "\"\"\"\n",
    "text = {}\n",
    "with open(training_article,'r',encoding='utf-8-sig') as f2:\n",
    "        rdf2 = csv.reader(f2)\n",
    "        for line in rdf2:\n",
    "            date = line[1][:4]+line[1][5:7]+line[1][8:10]\n",
    "            if date in label:\n",
    "                if date in text:\n",
    "                    text[date] = text[date]+' ' +modify(line[2])\n",
    "                else:\n",
    "                    text[date] = modify(line[2])  \n",
    "training_data = []\n",
    "for date in text:\n",
    "    training_data.append([text[date],label[date],date])\n",
    "\n",
    "text2 = {}    \n",
    "with open(test_article,'r',encoding='utf-8-sig') as f3:\n",
    "        rdf3 = csv.reader(f3)\n",
    "        for line in rdf3:\n",
    "            date = line[1][:4]+line[1][5:7]+line[1][8:10]\n",
    "            if date in label:\n",
    "                if date in text2:\n",
    "                    text2[date] = text2[date]+' ' +modify(line[2])\n",
    "                else:\n",
    "                    text2[date] = modify(line[2])  \n",
    "test_data = []\n",
    "for date in text2:\n",
    "    test_data.append([text2[date],label[date],date])\n",
    "\"\"\""
   ]
  },
  {
   "cell_type": "code",
   "execution_count": 8,
   "metadata": {},
   "outputs": [],
   "source": [
    "# 2. 기사 본문을 각각 라벨링하는 코드\n",
    "training_data = []\n",
    "test_data = []    \n",
    "with open(training_article,'r',encoding='utf-8-sig') as f2:\n",
    "        rdf2 = csv.reader(f2)\n",
    "        for line in rdf2:\n",
    "            date = line[1][:4]+line[1][5:7]+line[1][8:10]\n",
    "            if date in label:\n",
    "                training_data.append([modify(line[2]),label[date],date])\n",
    "with open(training_article2,'r',encoding='utf-8-sig') as f2:\n",
    "        rdf2 = csv.reader(f2)\n",
    "        for line in rdf2:\n",
    "            date = line[1][:4]+line[1][5:7]+line[1][8:10]\n",
    "            if date in label:\n",
    "                training_data.append([modify(line[2]),label[date],date])\n",
    "\n",
    "                             \n",
    "with open(test_article,'r',encoding='utf-8-sig') as f3:\n",
    "        rdf3 = csv.reader(f3)\n",
    "        for line in rdf3:\n",
    "            date = line[1][:4]+line[1][5:7]+line[1][8:10]\n",
    "            if date in label:\n",
    "                test_data.append([modify(line[2]),label[date],date])\n",
    "    \n",
    "# training_data : 날짜 정보가 없는 training_data\n",
    "# training_data2 : 날짜 정보가 있는 training_data\n",
    "# test_data : 날짜 정보가 없는 test_data\n",
    "# test_data2 : 날짜 정보가 있는 test_data"
   ]
  },
  {
   "cell_type": "code",
   "execution_count": 9,
   "metadata": {},
   "outputs": [],
   "source": [
    "# data를 셔플링 해주는 과정\n",
    "from random import shuffle\n",
    "for i in range(5):\n",
    "    shuffle(training_data)\n",
    "    shuffle(test_data)"
   ]
  },
  {
   "cell_type": "code",
   "execution_count": 11,
   "metadata": {},
   "outputs": [
    {
     "name": "stdout",
     "output_type": "stream",
     "text": [
      "done\n",
      "test is done\n"
     ]
    }
   ],
   "source": [
    "# data를 토크나이징 하는 과정(단어만 추출하여 리스트 형태로 변환)\n",
    "from konlpy.tag import Okt\n",
    "import nltk\n",
    "\n",
    "okt = Okt()\n",
    "\n",
    "def tokenize(doc):\n",
    "    return ['/'.join(t) for t in okt.pos(doc,norm=True,stem=True)]\n",
    "print('done')\n",
    "training = [(tokenize(data[0]),data[1],data[2]) for data in training_data]#[(['단어/형태',...,]0 or 1), ...]\n",
    "print('training is done')\n",
    "test = [(tokenize(data[0]),data[1],data[2]) for data in test_data]\n",
    "print('test is done')"
   ]
  },
  {
   "cell_type": "code",
   "execution_count": 12,
   "metadata": {},
   "outputs": [],
   "source": [
    "# 생성된 training, test 데이터를 pickle의 형태로 저장\n",
    "import pickle\n",
    "import os\n",
    "path = os.getcwd()+'/pickles/'\n",
    "with open(path+'19training.pickle', 'wb') as f:\n",
    "    pickle.dump(training, f)\n",
    "with open(path+'19test.pickle', 'wb') as f:\n",
    "    pickle.dump(test, f)"
   ]
  },
  {
   "cell_type": "code",
   "execution_count": null,
   "metadata": {},
   "outputs": [],
   "source": [
    "# training.pickle : summarize 하지 않은 기사 본문을 각각 라벨링한 데이터 (당일 기사로 다음날 주가)\n",
    "# 2training.pickle : summarize 하지 않은 기사 본문을 날짜마다 합쳐서 라벨링한 데이터\n",
    "# 3training.pickle : 40%로 summarize 한 기사 본문을 각각 라벨링한 데이터\n",
    "# 4training.pickle : 40%로 summarize 한 기사 본문을 날짜마다 합쳐서 라벨링한 데이터\n",
    "# 5training.pickle : summarize 하지 않은 기사 본문을 당일의 종가등락율로 각각 라벨링한 데이터\n",
    "# 6training.pickle : summarize 하지 않은 기사 본문을 전일의 종가등락율로 각각 라벨링한 데이터\n",
    "# 7training.pickle : summarize 하지 않은 기사 본문을 다음날의 시가등락율로 각각 라벨링한 데이터\n",
    "# 8training.pickle : summarize 하지 않은 기사 본문을 당일의 전일 대비 종가등락율로 각각 라벨링한 데이터(final_articles 사용)\n",
    "# 9training.pickle : summarize 하지 않은 기사 본문을 당일의 시가대비 종가등락율로 각각 라벨링한 데이터(final_articles 사용)"
   ]
  }
 ],
 "metadata": {
  "kernelspec": {
   "display_name": "Python 3",
   "language": "python",
   "name": "python3"
  },
  "language_info": {
   "codemirror_mode": {
    "name": "ipython",
    "version": 3
   },
   "file_extension": ".py",
   "mimetype": "text/x-python",
   "name": "python",
   "nbconvert_exporter": "python",
   "pygments_lexer": "ipython3",
   "version": "3.8.2"
  }
 },
 "nbformat": 4,
 "nbformat_minor": 4
}
