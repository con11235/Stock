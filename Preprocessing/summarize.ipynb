{
 "cells": [
  {
   "cell_type": "code",
   "execution_count": 1,
   "metadata": {},
   "outputs": [],
   "source": [
    "import re\n",
    "\n",
    "def modify(text):\n",
    "    if '[ⓒ' in text:\n",
    "        index = text.find('[ⓒ')\n",
    "        text = text[:index]\n",
    "    while 'googletag.display' in text:\n",
    "        index = text.find('googletag.display')        \n",
    "        index2 = text.find(';',index)\n",
    "        text = text[:index]+text[index2+1:]\n",
    "    pattern = '([a-zA-Z0-9_.+-]+@[a-zA-Z0-9-]+\\.[a-zA-Z0-9-.]+)' #이메일 주소 제거\n",
    "    text = re.sub(pattern=pattern, repl=' ',string=text)\n",
    "    \n",
    "    return text\n",
    "def modify2(text):\n",
    "    pattern = '([ㄱ-ㅎㅏ-ㅣ]+)' #한글 자모음 제거\n",
    "    text = re.sub(pattern=pattern, repl=' ', string=text)\n",
    "    pattern = '[^\\w\\s]' #특수기호 제거\n",
    "    text = re.sub(pattern=pattern, repl=' ', string=text)\n",
    "    return text"
   ]
  },
  {
   "cell_type": "code",
   "execution_count": 2,
   "metadata": {},
   "outputs": [],
   "source": [
    "import re\n",
    "import csv\n",
    "f = open('final_articles.csv','r',encoding='utf-8-sig')\n",
    "rdf = csv.reader(f)\n",
    "total = []\n",
    "for line in rdf:\n",
    "    string = modify(line[2])\n",
    "    split = re.split('(?<=[^0-9])[\\.|\\n]', string) #마침표 기준으로 나누기(소수점은 마침표 취급 x)/본문 뒤 [ㅇㅇㅇ기자]~ 제거 =>기사전문\n",
    "    if split == []:\n",
    "        continue\n",
    "    split = [modify(s).strip() for s in split]\n",
    "    total.append((split,line[1]))"
   ]
  },
  {
   "cell_type": "code",
   "execution_count": 3,
   "metadata": {
    "scrolled": true
   },
   "outputs": [
    {
     "name": "stdout",
     "output_type": "stream",
     "text": [
      "639 ,  row, column, and data array must all be the same length\n",
      "640 ,  row, column, and data array must all be the same length\n",
      "642 ,  row, column, and data array must all be the same length\n",
      "643 ,  row, column, and data array must all be the same length\n",
      "644 ,  row, column, and data array must all be the same length\n",
      "882 ,  row, column, and data array must all be the same length\n",
      "883 ,  row, column, and data array must all be the same length\n",
      "884 ,  row, column, and data array must all be the same length\n",
      "1543 ,  row, column, and data array must all be the same length\n",
      "1544 ,  row, column, and data array must all be the same length\n",
      "1547 ,  row, column, and data array must all be the same length\n",
      "1549 ,  row, column, and data array must all be the same length\n",
      "1550 ,  row, column, and data array must all be the same length\n",
      "1551 ,  row, column, and data array must all be the same length\n",
      "1552 ,  row, column, and data array must all be the same length\n",
      "1783 ,  row, column, and data array must all be the same length\n",
      "1784 ,  row, column, and data array must all be the same length\n",
      "1943 ,  row, column, and data array must all be the same length\n",
      "2184 ,  row, column, and data array must all be the same length\n",
      "2481 ,  row, column, and data array must all be the same length\n",
      "2482 ,  row, column, and data array must all be the same length\n",
      "2483 ,  row, column, and data array must all be the same length\n",
      "2484 ,  row, column, and data array must all be the same length\n",
      "2485 ,  row, column, and data array must all be the same length\n",
      "2679 ,  row, column, and data array must all be the same length\n",
      "2686 ,  row, column, and data array must all be the same length\n",
      "3362 ,  row, column, and data array must all be the same length\n",
      "3367 ,  row, column, and data array must all be the same length\n",
      "3368 ,  row, column, and data array must all be the same length\n",
      "3371 ,  row, column, and data array must all be the same length\n",
      "3372 ,  row, column, and data array must all be the same length\n",
      "3410 ,  row, column, and data array must all be the same length\n",
      "3487 ,  row, column, and data array must all be the same length\n",
      "3614 ,  row, column, and data array must all be the same length\n",
      "3615 ,  row, column, and data array must all be the same length\n",
      "4319 ,  row, column, and data array must all be the same length\n",
      "4323 ,  row, column, and data array must all be the same length\n",
      "4324 ,  row, column, and data array must all be the same length\n",
      "4325 ,  row, column, and data array must all be the same length\n",
      "4326 ,  row, column, and data array must all be the same length\n",
      "4327 ,  row, column, and data array must all be the same length\n",
      "4603 ,  row, column, and data array must all be the same length\n",
      "5107 ,  row, column, and data array must all be the same length\n",
      "5252 ,  row, column, and data array must all be the same length\n",
      "5309 ,  row, column, and data array must all be the same length\n",
      "5480 ,  row, column, and data array must all be the same length\n",
      "5481 ,  row, column, and data array must all be the same length\n",
      "6152 ,  row, column, and data array must all be the same length\n",
      "6153 ,  row, column, and data array must all be the same length\n",
      "6154 ,  row, column, and data array must all be the same length\n",
      "6155 ,  row, column, and data array must all be the same length\n",
      "6157 ,  row, column, and data array must all be the same length\n",
      "6158 ,  row, column, and data array must all be the same length\n",
      "6159 ,  row, column, and data array must all be the same length\n",
      "6160 ,  row, column, and data array must all be the same length\n",
      "6161 ,  row, column, and data array must all be the same length\n",
      "6162 ,  row, column, and data array must all be the same length\n",
      "6427 ,  row, column, and data array must all be the same length\n"
     ]
    }
   ],
   "source": [
    "from konlpy.tag import Komoran\n",
    "from textrank import KeywordSummarizer\n",
    "from textrank import KeysentenceSummarizer\n",
    "\n",
    "komoran = Komoran()\n",
    "\n",
    "def komoran_tokenize(sent):\n",
    "    return komoran.pos(sent, join=True)\n",
    "\n",
    "result = []\n",
    "n =0\n",
    "for sents in total:\n",
    "    n +=1\n",
    "    try:\n",
    "        summarizer = KeysentenceSummarizer(tokenize = komoran_tokenize, min_sim = 0.3)\n",
    "        keysents = summarizer.summarize(sents[0], topk=int(min(len(sents[0]),max(3,len(sents[0])*6/10))))\n",
    "        sentense = ''\n",
    "        for line in keysents:\n",
    "            sentense+=line[2]\n",
    "        result.append([sents[1],sentense])\n",
    "    except Exception as e:\n",
    "        print(n,', ' ,e)"
   ]
  },
  {
   "cell_type": "code",
   "execution_count": 4,
   "metadata": {},
   "outputs": [],
   "source": [
    "import csv\n",
    "f = open('final_articles_sum.csv','w', newline='',encoding='utf-8-sig')\n",
    "wr = csv.writer(f)\n",
    "for line in result:\n",
    "    if '삼성전자' in line[1]:\n",
    "        wr.writerow([None]+line)\n",
    "f.close()"
   ]
  }
 ],
 "metadata": {
  "kernelspec": {
   "display_name": "Python 3",
   "language": "python",
   "name": "python3"
  },
  "language_info": {
   "codemirror_mode": {
    "name": "ipython",
    "version": 3
   },
   "file_extension": ".py",
   "mimetype": "text/x-python",
   "name": "python",
   "nbconvert_exporter": "python",
   "pygments_lexer": "ipython3",
   "version": "3.8.2"
  }
 },
 "nbformat": 4,
 "nbformat_minor": 4
}
